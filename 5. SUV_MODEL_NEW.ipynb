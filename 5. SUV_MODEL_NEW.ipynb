{
 "cells": [
  {
   "cell_type": "markdown",
   "metadata": {},
   "source": [
    "## IMPORTING LIBRARIES"
   ]
  },
  {
   "cell_type": "code",
   "execution_count": 11,
   "metadata": {},
   "outputs": [],
   "source": [
    "import pandas as pd\n",
    "import numpy as np\n",
    "import matplotlib.pyplot as plt\n",
    "import seaborn as sns\n",
    "pd.options.display.max_rows = 10\n",
    "pd.options.display.float_format = \"{:.1f}\".format"
   ]
  },
  {
   "cell_type": "markdown",
   "metadata": {},
   "source": [
    "## LOOK DATASET"
   ]
  },
  {
   "cell_type": "code",
   "execution_count": 2,
   "metadata": {},
   "outputs": [
    {
     "data": {
      "text/plain": [
       "'C:\\\\Users\\\\User\\\\BANGKIT_GOOGLE\\\\Project 1'"
      ]
     },
     "execution_count": 2,
     "metadata": {},
     "output_type": "execute_result"
    }
   ],
   "source": [
    "pwd"
   ]
  },
  {
   "cell_type": "code",
   "execution_count": 16,
   "metadata": {},
   "outputs": [],
   "source": [
    "#ONLINE ACCESS AND RESAVE\n",
    "#df = pd.read_csv('https://docs.google.com/spreadsheets/d/e/2PACX-1vTkbsvshuhRMeir109MvC_3QvbpJwBJkMN9R0KeCWehSzu74CoU29Nlf11klUkdHWfSoH81HHkbxtru/pub?output=csv')\n",
    "#df.head()\n",
    "#df.to_csv('C:\\\\Users\\\\User\\\\BANGKIT_GOOGLE\\\\Project 1\\\\DATA_SUV.csv',index=False)"
   ]
  },
  {
   "cell_type": "code",
   "execution_count": 3,
   "metadata": {},
   "outputs": [],
   "source": [
    "train_df = pd.read_csv('train_final.csv')\n",
    "test_df = pd.read_csv('test_final.csv')"
   ]
  },
  {
   "cell_type": "code",
   "execution_count": 4,
   "metadata": {},
   "outputs": [
    {
     "data": {
      "text/html": [
       "<div>\n",
       "<style scoped>\n",
       "    .dataframe tbody tr th:only-of-type {\n",
       "        vertical-align: middle;\n",
       "    }\n",
       "\n",
       "    .dataframe tbody tr th {\n",
       "        vertical-align: top;\n",
       "    }\n",
       "\n",
       "    .dataframe thead th {\n",
       "        text-align: right;\n",
       "    }\n",
       "</style>\n",
       "<table border=\"1\" class=\"dataframe\">\n",
       "  <thead>\n",
       "    <tr style=\"text-align: right;\">\n",
       "      <th></th>\n",
       "      <th>abtest_control</th>\n",
       "      <th>abtest_test</th>\n",
       "      <th>price</th>\n",
       "      <th>yearOfRegistration</th>\n",
       "      <th>powerPS</th>\n",
       "      <th>kilometer</th>\n",
       "      <th>monthOfRegistration</th>\n",
       "    </tr>\n",
       "  </thead>\n",
       "  <tbody>\n",
       "    <tr>\n",
       "      <th>0</th>\n",
       "      <td>0</td>\n",
       "      <td>1</td>\n",
       "      <td>32499</td>\n",
       "      <td>2014</td>\n",
       "      <td>170</td>\n",
       "      <td>30000</td>\n",
       "      <td>7</td>\n",
       "    </tr>\n",
       "    <tr>\n",
       "      <th>1</th>\n",
       "      <td>0</td>\n",
       "      <td>1</td>\n",
       "      <td>38788</td>\n",
       "      <td>2012</td>\n",
       "      <td>258</td>\n",
       "      <td>60000</td>\n",
       "      <td>10</td>\n",
       "    </tr>\n",
       "    <tr>\n",
       "      <th>2</th>\n",
       "      <td>0</td>\n",
       "      <td>1</td>\n",
       "      <td>25800</td>\n",
       "      <td>2012</td>\n",
       "      <td>258</td>\n",
       "      <td>150000</td>\n",
       "      <td>2</td>\n",
       "    </tr>\n",
       "    <tr>\n",
       "      <th>3</th>\n",
       "      <td>0</td>\n",
       "      <td>1</td>\n",
       "      <td>99000</td>\n",
       "      <td>2011</td>\n",
       "      <td>211</td>\n",
       "      <td>30000</td>\n",
       "      <td>6</td>\n",
       "    </tr>\n",
       "    <tr>\n",
       "      <th>4</th>\n",
       "      <td>1</td>\n",
       "      <td>0</td>\n",
       "      <td>31000</td>\n",
       "      <td>2011</td>\n",
       "      <td>204</td>\n",
       "      <td>125000</td>\n",
       "      <td>1</td>\n",
       "    </tr>\n",
       "  </tbody>\n",
       "</table>\n",
       "</div>"
      ],
      "text/plain": [
       "   abtest_control  abtest_test  price  yearOfRegistration  powerPS  kilometer  \\\n",
       "0               0            1  32499                2014      170      30000   \n",
       "1               0            1  38788                2012      258      60000   \n",
       "2               0            1  25800                2012      258     150000   \n",
       "3               0            1  99000                2011      211      30000   \n",
       "4               1            0  31000                2011      204     125000   \n",
       "\n",
       "   monthOfRegistration  \n",
       "0                    7  \n",
       "1                   10  \n",
       "2                    2  \n",
       "3                    6  \n",
       "4                    1  "
      ]
     },
     "execution_count": 4,
     "metadata": {},
     "output_type": "execute_result"
    }
   ],
   "source": [
    "train_df.head()"
   ]
  },
  {
   "cell_type": "code",
   "execution_count": 5,
   "metadata": {},
   "outputs": [
    {
     "data": {
      "text/html": [
       "<div>\n",
       "<style scoped>\n",
       "    .dataframe tbody tr th:only-of-type {\n",
       "        vertical-align: middle;\n",
       "    }\n",
       "\n",
       "    .dataframe tbody tr th {\n",
       "        vertical-align: top;\n",
       "    }\n",
       "\n",
       "    .dataframe thead th {\n",
       "        text-align: right;\n",
       "    }\n",
       "</style>\n",
       "<table border=\"1\" class=\"dataframe\">\n",
       "  <thead>\n",
       "    <tr style=\"text-align: right;\">\n",
       "      <th></th>\n",
       "      <th>abtest_control</th>\n",
       "      <th>abtest_test</th>\n",
       "      <th>price</th>\n",
       "      <th>yearOfRegistration</th>\n",
       "      <th>powerPS</th>\n",
       "      <th>kilometer</th>\n",
       "      <th>monthOfRegistration</th>\n",
       "    </tr>\n",
       "  </thead>\n",
       "  <tbody>\n",
       "    <tr>\n",
       "      <th>0</th>\n",
       "      <td>1</td>\n",
       "      <td>0</td>\n",
       "      <td>24999</td>\n",
       "      <td>2012</td>\n",
       "      <td>170</td>\n",
       "      <td>40000</td>\n",
       "      <td>5</td>\n",
       "    </tr>\n",
       "    <tr>\n",
       "      <th>1</th>\n",
       "      <td>0</td>\n",
       "      <td>1</td>\n",
       "      <td>19000</td>\n",
       "      <td>2012</td>\n",
       "      <td>204</td>\n",
       "      <td>40000</td>\n",
       "      <td>10</td>\n",
       "    </tr>\n",
       "    <tr>\n",
       "      <th>2</th>\n",
       "      <td>0</td>\n",
       "      <td>1</td>\n",
       "      <td>27800</td>\n",
       "      <td>2012</td>\n",
       "      <td>170</td>\n",
       "      <td>100000</td>\n",
       "      <td>9</td>\n",
       "    </tr>\n",
       "    <tr>\n",
       "      <th>3</th>\n",
       "      <td>0</td>\n",
       "      <td>1</td>\n",
       "      <td>23900</td>\n",
       "      <td>2013</td>\n",
       "      <td>143</td>\n",
       "      <td>150000</td>\n",
       "      <td>9</td>\n",
       "    </tr>\n",
       "    <tr>\n",
       "      <th>4</th>\n",
       "      <td>0</td>\n",
       "      <td>1</td>\n",
       "      <td>60000</td>\n",
       "      <td>2013</td>\n",
       "      <td>170</td>\n",
       "      <td>40000</td>\n",
       "      <td>1</td>\n",
       "    </tr>\n",
       "  </tbody>\n",
       "</table>\n",
       "</div>"
      ],
      "text/plain": [
       "   abtest_control  abtest_test  price  yearOfRegistration  powerPS  kilometer  \\\n",
       "0               1            0  24999                2012      170      40000   \n",
       "1               0            1  19000                2012      204      40000   \n",
       "2               0            1  27800                2012      170     100000   \n",
       "3               0            1  23900                2013      143     150000   \n",
       "4               0            1  60000                2013      170      40000   \n",
       "\n",
       "   monthOfRegistration  \n",
       "0                    5  \n",
       "1                   10  \n",
       "2                    9  \n",
       "3                    9  \n",
       "4                    1  "
      ]
     },
     "execution_count": 5,
     "metadata": {},
     "output_type": "execute_result"
    }
   ],
   "source": [
    "test_df.head()"
   ]
  },
  {
   "cell_type": "code",
   "execution_count": 6,
   "metadata": {},
   "outputs": [
    {
     "name": "stdout",
     "output_type": "stream",
     "text": [
      "<class 'pandas.core.frame.DataFrame'>\n",
      "RangeIndex: 212 entries, 0 to 211\n",
      "Data columns (total 7 columns):\n",
      " #   Column               Non-Null Count  Dtype\n",
      "---  ------               --------------  -----\n",
      " 0   abtest_control       212 non-null    int64\n",
      " 1   abtest_test          212 non-null    int64\n",
      " 2   price                212 non-null    int64\n",
      " 3   yearOfRegistration   212 non-null    int64\n",
      " 4   powerPS              212 non-null    int64\n",
      " 5   kilometer            212 non-null    int64\n",
      " 6   monthOfRegistration  212 non-null    int64\n",
      "dtypes: int64(7)\n",
      "memory usage: 11.7 KB\n"
     ]
    }
   ],
   "source": [
    "train_df.info()"
   ]
  },
  {
   "cell_type": "code",
   "execution_count": 7,
   "metadata": {},
   "outputs": [
    {
     "name": "stdout",
     "output_type": "stream",
     "text": [
      "<class 'pandas.core.frame.DataFrame'>\n",
      "RangeIndex: 46 entries, 0 to 45\n",
      "Data columns (total 7 columns):\n",
      " #   Column               Non-Null Count  Dtype\n",
      "---  ------               --------------  -----\n",
      " 0   abtest_control       46 non-null     int64\n",
      " 1   abtest_test          46 non-null     int64\n",
      " 2   price                46 non-null     int64\n",
      " 3   yearOfRegistration   46 non-null     int64\n",
      " 4   powerPS              46 non-null     int64\n",
      " 5   kilometer            46 non-null     int64\n",
      " 6   monthOfRegistration  46 non-null     int64\n",
      "dtypes: int64(7)\n",
      "memory usage: 2.6 KB\n"
     ]
    }
   ],
   "source": [
    "test_df.info()"
   ]
  },
  {
   "cell_type": "code",
   "execution_count": 9,
   "metadata": {},
   "outputs": [
    {
     "name": "stdout",
     "output_type": "stream",
     "text": [
      "Training set\n",
      "2011    65\n",
      "2012    53\n",
      "2013    37\n",
      "2014    28\n",
      "2015    20\n",
      "2016     9\n",
      "Name: yearOfRegistration, dtype: int64\n",
      "Total data train is 212\n",
      "\n",
      "Testing set\n",
      "2013    13\n",
      "2012    12\n",
      "2011    12\n",
      "2014     7\n",
      "2015     2\n",
      "Name: yearOfRegistration, dtype: int64\n",
      "Total data test is 46\n"
     ]
    }
   ],
   "source": [
    "#Describe amount of dataset based on years\n",
    "print('Training set')\n",
    "print(train_df['yearOfRegistration'].value_counts())\n",
    "print('Total data train is {}\\n'.format(train_df.shape[0]))\n",
    "print('Testing set')\n",
    "print(test_df['yearOfRegistration'].value_counts())\n",
    "print('Total data test is {}'.format(test_df.shape[0]))"
   ]
  },
  {
   "cell_type": "code",
   "execution_count": 13,
   "metadata": {},
   "outputs": [
    {
     "name": "stdout",
     "output_type": "stream",
     "text": [
      "Train data description\n",
      "       abtest_control  abtest_test    price  yearOfRegistration  powerPS  \\\n",
      "count           212.0        212.0    212.0               212.0    212.0   \n",
      "mean              0.4          0.6  36316.1              2012.6    209.9   \n",
      "std               0.5          0.5  17327.9                 1.5     73.8   \n",
      "min               0.0          0.0    690.0              2011.0      0.0   \n",
      "25%               0.0          0.0  25375.0              2011.0    170.0   \n",
      "50%               0.0          1.0  31775.0              2012.0    204.0   \n",
      "75%               1.0          1.0  41900.0              2014.0    258.0   \n",
      "max               1.0          1.0 127500.0              2016.0    585.0   \n",
      "\n",
      "       kilometer  monthOfRegistration  \n",
      "count      212.0                212.0  \n",
      "mean     69599.1                  6.0  \n",
      "std      46658.0                  3.2  \n",
      "min       5000.0                  0.0  \n",
      "25%      30000.0                  3.0  \n",
      "50%      60000.0                  6.0  \n",
      "75%     100000.0                  9.0  \n",
      "max     150000.0                 12.0  \n",
      "\n",
      "\n",
      "Test data description\n",
      "       abtest_control  abtest_test   price  yearOfRegistration  powerPS  \\\n",
      "count            46.0         46.0    46.0                46.0     46.0   \n",
      "mean              0.5          0.5 37335.7              2012.5    220.4   \n",
      "std               0.5          0.5 16676.7                 1.2     97.6   \n",
      "min               0.0          0.0   989.0              2011.0      0.0   \n",
      "25%               0.0          0.0 26725.0              2011.2    170.0   \n",
      "50%               0.0          1.0 30200.0              2012.0    204.0   \n",
      "75%               1.0          1.0 46500.0              2013.0    251.2   \n",
      "max               1.0          1.0 80900.0              2015.0    507.0   \n",
      "\n",
      "       kilometer  monthOfRegistration  \n",
      "count       46.0                 46.0  \n",
      "mean     67717.4                  6.5  \n",
      "std      37427.1                  3.8  \n",
      "min       5000.0                  0.0  \n",
      "25%      40000.0                  3.0  \n",
      "50%      60000.0                  7.0  \n",
      "75%      97500.0                  9.0  \n",
      "max     150000.0                 12.0  \n"
     ]
    }
   ],
   "source": [
    "#Describe statistics of dataset\n",
    "print('Train data description')\n",
    "print(train_df.describe())\n",
    "print('\\n')\n",
    "print('Test data description')\n",
    "print(test_df.describe())"
   ]
  },
  {
   "cell_type": "markdown",
   "metadata": {},
   "source": [
    "## CREATE AND TRAIN ML MODEL"
   ]
  },
  {
   "cell_type": "code",
   "execution_count": 19,
   "metadata": {},
   "outputs": [],
   "source": [
    "from tensorflow.keras.models import Sequential\n",
    "from tensorflow.keras.layers import Dense,Dropout\n",
    "from tensorflow.keras.callbacks import EarlyStopping\n",
    "from tensorflow.keras.metrics import RootMeanSquaredError\n",
    "import tensorflow.keras.optimizers as op\n",
    "#from sklearn.preprocessing import MinMaxScaler\n",
    "#from sklearn.model_selection import train_test_split\n",
    "#from sklearn.metrics import mean_absolute_error,mean_squared_error"
   ]
  },
  {
   "cell_type": "code",
   "execution_count": 60,
   "metadata": {},
   "outputs": [],
   "source": [
    "X_train = train_df.drop('price',axis=1)     #Spliting training label and features\n",
    "y_train = train_df['price']"
   ]
  },
  {
   "cell_type": "code",
   "execution_count": 61,
   "metadata": {},
   "outputs": [],
   "source": [
    "X_test = test_df.drop('price',axis=1) #Spliting testing label and features\n",
    "y_test = test_df['price']"
   ]
  },
  {
   "cell_type": "code",
   "execution_count": 62,
   "metadata": {},
   "outputs": [
    {
     "data": {
      "text/html": [
       "<div>\n",
       "<style scoped>\n",
       "    .dataframe tbody tr th:only-of-type {\n",
       "        vertical-align: middle;\n",
       "    }\n",
       "\n",
       "    .dataframe tbody tr th {\n",
       "        vertical-align: top;\n",
       "    }\n",
       "\n",
       "    .dataframe thead th {\n",
       "        text-align: right;\n",
       "    }\n",
       "</style>\n",
       "<table border=\"1\" class=\"dataframe\">\n",
       "  <thead>\n",
       "    <tr style=\"text-align: right;\">\n",
       "      <th></th>\n",
       "      <th>abtest_control</th>\n",
       "      <th>abtest_test</th>\n",
       "      <th>yearOfRegistration</th>\n",
       "      <th>powerPS</th>\n",
       "      <th>kilometer</th>\n",
       "      <th>monthOfRegistration</th>\n",
       "    </tr>\n",
       "  </thead>\n",
       "  <tbody>\n",
       "    <tr>\n",
       "      <th>0</th>\n",
       "      <td>0</td>\n",
       "      <td>1</td>\n",
       "      <td>2014</td>\n",
       "      <td>170</td>\n",
       "      <td>30000</td>\n",
       "      <td>7</td>\n",
       "    </tr>\n",
       "    <tr>\n",
       "      <th>1</th>\n",
       "      <td>0</td>\n",
       "      <td>1</td>\n",
       "      <td>2012</td>\n",
       "      <td>258</td>\n",
       "      <td>60000</td>\n",
       "      <td>10</td>\n",
       "    </tr>\n",
       "    <tr>\n",
       "      <th>2</th>\n",
       "      <td>0</td>\n",
       "      <td>1</td>\n",
       "      <td>2012</td>\n",
       "      <td>258</td>\n",
       "      <td>150000</td>\n",
       "      <td>2</td>\n",
       "    </tr>\n",
       "    <tr>\n",
       "      <th>3</th>\n",
       "      <td>0</td>\n",
       "      <td>1</td>\n",
       "      <td>2011</td>\n",
       "      <td>211</td>\n",
       "      <td>30000</td>\n",
       "      <td>6</td>\n",
       "    </tr>\n",
       "    <tr>\n",
       "      <th>4</th>\n",
       "      <td>1</td>\n",
       "      <td>0</td>\n",
       "      <td>2011</td>\n",
       "      <td>204</td>\n",
       "      <td>125000</td>\n",
       "      <td>1</td>\n",
       "    </tr>\n",
       "  </tbody>\n",
       "</table>\n",
       "</div>"
      ],
      "text/plain": [
       "   abtest_control  abtest_test  yearOfRegistration  powerPS  kilometer  \\\n",
       "0               0            1                2014      170      30000   \n",
       "1               0            1                2012      258      60000   \n",
       "2               0            1                2012      258     150000   \n",
       "3               0            1                2011      211      30000   \n",
       "4               1            0                2011      204     125000   \n",
       "\n",
       "   monthOfRegistration  \n",
       "0                    7  \n",
       "1                   10  \n",
       "2                    2  \n",
       "3                    6  \n",
       "4                    1  "
      ]
     },
     "execution_count": 62,
     "metadata": {},
     "output_type": "execute_result"
    }
   ],
   "source": [
    "X_train.head()"
   ]
  },
  {
   "cell_type": "code",
   "execution_count": 18,
   "metadata": {},
   "outputs": [
    {
     "data": {
      "text/plain": [
       "0    32499\n",
       "1    38788\n",
       "2    25800\n",
       "3    99000\n",
       "4    31000\n",
       "Name: price, dtype: int64"
      ]
     },
     "execution_count": 18,
     "metadata": {},
     "output_type": "execute_result"
    }
   ],
   "source": [
    "y_train.head()"
   ]
  },
  {
   "cell_type": "code",
   "execution_count": 63,
   "metadata": {},
   "outputs": [],
   "source": [
    "model = Sequential()\n",
    "model.add(Dense(5,activation='relu'))\n",
    "model.add(Dense(1,activation='relu'))\n",
    "model.compile(optimizer='adam',loss='mse')"
   ]
  },
  {
   "cell_type": "code",
   "execution_count": 64,
   "metadata": {},
   "outputs": [],
   "source": [
    "early_stop = EarlyStopping(monitor='val_loss',verbose=1,patience=2)"
   ]
  },
  {
   "cell_type": "code",
   "execution_count": 65,
   "metadata": {},
   "outputs": [
    {
     "name": "stdout",
     "output_type": "stream",
     "text": [
      "Train on 212 samples, validate on 46 samples\n",
      "Epoch 1/300\n",
      "212/212 [==============================] - 1s 3ms/sample - loss: 1091466246.0377 - val_loss: 742204788.8696\n",
      "Epoch 2/300\n",
      "212/212 [==============================] - 0s 207us/sample - loss: 1060126082.4151 - val_loss: 738156624.6957\n",
      "Epoch 3/300\n",
      "212/212 [==============================] - 0s 212us/sample - loss: 1034028355.6226 - val_loss: 737958127.3043\n",
      "Epoch 4/300\n",
      "212/212 [==============================] - 0s 216us/sample - loss: 1013033522.7170 - val_loss: 740869081.0435\n",
      "Epoch 5/300\n",
      "212/212 [==============================] - 0s 250us/sample - loss: 997547577.9623 - val_loss: 745948950.2609\n",
      "Epoch 00005: early stopping\n"
     ]
    },
    {
     "data": {
      "text/plain": [
       "<tensorflow.python.keras.callbacks.History at 0x2a92ba4d708>"
      ]
     },
     "execution_count": 65,
     "metadata": {},
     "output_type": "execute_result"
    }
   ],
   "source": [
    "model.fit(X_train.values,y_train.values,epochs=300,\n",
    "          validation_data = (X_test.values,y_test.values),\n",
    "          callbacks = [early_stop])"
   ]
  },
  {
   "cell_type": "code",
   "execution_count": 66,
   "metadata": {},
   "outputs": [],
   "source": [
    "loss = pd.DataFrame(model.history.history)"
   ]
  },
  {
   "cell_type": "code",
   "execution_count": 67,
   "metadata": {},
   "outputs": [
    {
     "data": {
      "text/plain": [
       "<matplotlib.axes._subplots.AxesSubplot at 0x2a92c02ce88>"
      ]
     },
     "execution_count": 67,
     "metadata": {},
     "output_type": "execute_result"
    },
    {
     "data": {
      "image/png": "[encoded data removed]",
      "text/plain": [
       "<Figure size 432x288 with 1 Axes>"
      ]
     },
     "metadata": {
      "needs_background": "light"
     },
     "output_type": "display_data"
    }
   ],
   "source": [
    "loss.plot()"
   ]
  },
  {
   "cell_type": "markdown",
   "metadata": {},
   "source": [
    "# LOSS is too big.It's possible due to less data to perform good training \n",
    "# Too many features may make model get confuse to learn the pattern."
   ]
  },
  {
   "cell_type": "code",
   "execution_count": 68,
   "metadata": {},
   "outputs": [
    {
     "name": "stdout",
     "output_type": "stream",
     "text": [
      "\r",
      "212/1 [========================================================================================================================================================================================================================================================================================================================================================================================================================================================================================================================================================================================================================================================================================================================================================================================================================================================================================================================================================================================================================================================================================================================================================================================================================================================================================================================================================================================================================================================================================================================================================================================================================================================================================================================================================================================================================================================================================================================================================================================================================================================================================================================================================================================================================================================================================================================================================================================================================================================================================================================================================================================================================================================================================================================================================================================================================================================================================================================================================================================================================================================================================================================================================================================================================================================================================================================================================================================================================================================================================================================================================================================================================================================================================================================================================================================================================================================================================================================================================================================================================================================================================================================================================================================================================================================================================================================================================================================================================================================================================================================================================================================================================================================================================================================================================================================================================================================================================================================================================================================================================================================================================================================================================================================================================================================================================================================================================================================================================================================================================================================================================================================================================================================================================================================================================================================================================================================================================================================================================================================================================================================================================================================================================================================================================================================================================================================================================================================================================================================================================================================================================================================================================] - 0s 33us/sample - loss: 758366734.4906\n"
     ]
    }
   ],
   "source": [
    "model.evaluate(X_train.values,y_train.values);"
   ]
  },
  {
   "cell_type": "code",
   "execution_count": 73,
   "metadata": {},
   "outputs": [],
   "source": [
    "pred = model.predict(X_test.values)"
   ]
  },
  {
   "cell_type": "code",
   "execution_count": 74,
   "metadata": {},
   "outputs": [
    {
     "data": {
      "text/plain": [
       "20059.701647233873"
      ]
     },
     "execution_count": 74,
     "metadata": {},
     "output_type": "execute_result"
    }
   ],
   "source": [
    "import numpy as np\n",
    "Mean_Absolute_Error = np.mean(abs(y_test.values-abs(pred)))  \n",
    "Mean_Absolute_Error"
   ]
  },
  {
   "cell_type": "code",
   "execution_count": 75,
   "metadata": {},
   "outputs": [
    {
     "name": "stdout",
     "output_type": "stream",
     "text": [
      "RMSE model is : 27312.06640625\n",
      "First true price and prediction : 24999 , 13755\n"
     ]
    }
   ],
   "source": [
    "error=RootMeanSquaredError()\n",
    "error.update_state(y_test.values,pred)\n",
    "print('RMSE model is : {}'.format(error.result().numpy()))\n",
    "print('First true price and prediction : {} , {}'.format(y_test.values[0],\n",
    "                                                        int(pred[0])))"
   ]
  },
  {
   "cell_type": "code",
   "execution_count": 76,
   "metadata": {},
   "outputs": [
    {
     "data": {
      "text/plain": [
       "[<matplotlib.lines.Line2D at 0x2a92d302108>]"
      ]
     },
     "execution_count": 76,
     "metadata": {},
     "output_type": "execute_result"
    },
    {
     "data": {
      "image/png": "[encoded data removed]",
      "text/plain": [
       "<Figure size 720x360 with 1 Axes>"
      ]
     },
     "metadata": {
      "needs_background": "light"
     },
     "output_type": "display_data"
    }
   ],
   "source": [
    "plt.figure(figsize=(10,5))\n",
    "plt.scatter(x=y_test.values,y=pred)\n",
    "plt.xlabel('True')\n",
    "plt.ylabel('Prediction')\n",
    "plt.plot(y_test.values,y_test.values,'r')\n",
    "#BLUE DOT SHOWS PREDICTION PATTERN AND RED LINE SHOW TRUE/PERFECT VALUE PATTERN"
   ]
  },
  {
   "cell_type": "code",
   "execution_count": 77,
   "metadata": {},
   "outputs": [
    {
     "data": {
      "text/html": [
       "<div>\n",
       "<style scoped>\n",
       "    .dataframe tbody tr th:only-of-type {\n",
       "        vertical-align: middle;\n",
       "    }\n",
       "\n",
       "    .dataframe tbody tr th {\n",
       "        vertical-align: top;\n",
       "    }\n",
       "\n",
       "    .dataframe thead th {\n",
       "        text-align: right;\n",
       "    }\n",
       "</style>\n",
       "<table border=\"1\" class=\"dataframe\">\n",
       "  <thead>\n",
       "    <tr style=\"text-align: right;\">\n",
       "      <th></th>\n",
       "      <th>abtest_control</th>\n",
       "      <th>abtest_test</th>\n",
       "      <th>yearOfRegistration</th>\n",
       "      <th>powerPS</th>\n",
       "      <th>kilometer</th>\n",
       "      <th>monthOfRegistration</th>\n",
       "    </tr>\n",
       "  </thead>\n",
       "  <tbody>\n",
       "    <tr>\n",
       "      <th>0</th>\n",
       "      <td>0</td>\n",
       "      <td>1</td>\n",
       "      <td>2014</td>\n",
       "      <td>170</td>\n",
       "      <td>30000</td>\n",
       "      <td>7</td>\n",
       "    </tr>\n",
       "    <tr>\n",
       "      <th>1</th>\n",
       "      <td>0</td>\n",
       "      <td>1</td>\n",
       "      <td>2012</td>\n",
       "      <td>258</td>\n",
       "      <td>60000</td>\n",
       "      <td>10</td>\n",
       "    </tr>\n",
       "    <tr>\n",
       "      <th>2</th>\n",
       "      <td>0</td>\n",
       "      <td>1</td>\n",
       "      <td>2012</td>\n",
       "      <td>258</td>\n",
       "      <td>150000</td>\n",
       "      <td>2</td>\n",
       "    </tr>\n",
       "    <tr>\n",
       "      <th>3</th>\n",
       "      <td>0</td>\n",
       "      <td>1</td>\n",
       "      <td>2011</td>\n",
       "      <td>211</td>\n",
       "      <td>30000</td>\n",
       "      <td>6</td>\n",
       "    </tr>\n",
       "    <tr>\n",
       "      <th>4</th>\n",
       "      <td>1</td>\n",
       "      <td>0</td>\n",
       "      <td>2011</td>\n",
       "      <td>204</td>\n",
       "      <td>125000</td>\n",
       "      <td>1</td>\n",
       "    </tr>\n",
       "  </tbody>\n",
       "</table>\n",
       "</div>"
      ],
      "text/plain": [
       "   abtest_control  abtest_test  yearOfRegistration  powerPS  kilometer  \\\n",
       "0               0            1                2014      170      30000   \n",
       "1               0            1                2012      258      60000   \n",
       "2               0            1                2012      258     150000   \n",
       "3               0            1                2011      211      30000   \n",
       "4               1            0                2011      204     125000   \n",
       "\n",
       "   monthOfRegistration  \n",
       "0                    7  \n",
       "1                   10  \n",
       "2                    2  \n",
       "3                    6  \n",
       "4                    1  "
      ]
     },
     "execution_count": 77,
     "metadata": {},
     "output_type": "execute_result"
    }
   ],
   "source": [
    "X_train.head()"
   ]
  },
  {
   "cell_type": "code",
   "execution_count": 78,
   "metadata": {},
   "outputs": [],
   "source": [
    "#Remove features year and month \n",
    "X_train = X_train.drop(['yearOfRegistration','monthOfRegistration'],axis=1)\n",
    "X_test  = X_test.drop(['yearOfRegistration','monthOfRegistration'],axis=1)"
   ]
  },
  {
   "cell_type": "code",
   "execution_count": 79,
   "metadata": {},
   "outputs": [
    {
     "data": {
      "text/html": [
       "<div>\n",
       "<style scoped>\n",
       "    .dataframe tbody tr th:only-of-type {\n",
       "        vertical-align: middle;\n",
       "    }\n",
       "\n",
       "    .dataframe tbody tr th {\n",
       "        vertical-align: top;\n",
       "    }\n",
       "\n",
       "    .dataframe thead th {\n",
       "        text-align: right;\n",
       "    }\n",
       "</style>\n",
       "<table border=\"1\" class=\"dataframe\">\n",
       "  <thead>\n",
       "    <tr style=\"text-align: right;\">\n",
       "      <th></th>\n",
       "      <th>abtest_control</th>\n",
       "      <th>abtest_test</th>\n",
       "      <th>powerPS</th>\n",
       "      <th>kilometer</th>\n",
       "    </tr>\n",
       "  </thead>\n",
       "  <tbody>\n",
       "    <tr>\n",
       "      <th>0</th>\n",
       "      <td>0</td>\n",
       "      <td>1</td>\n",
       "      <td>170</td>\n",
       "      <td>30000</td>\n",
       "    </tr>\n",
       "    <tr>\n",
       "      <th>1</th>\n",
       "      <td>0</td>\n",
       "      <td>1</td>\n",
       "      <td>258</td>\n",
       "      <td>60000</td>\n",
       "    </tr>\n",
       "    <tr>\n",
       "      <th>2</th>\n",
       "      <td>0</td>\n",
       "      <td>1</td>\n",
       "      <td>258</td>\n",
       "      <td>150000</td>\n",
       "    </tr>\n",
       "    <tr>\n",
       "      <th>3</th>\n",
       "      <td>0</td>\n",
       "      <td>1</td>\n",
       "      <td>211</td>\n",
       "      <td>30000</td>\n",
       "    </tr>\n",
       "    <tr>\n",
       "      <th>4</th>\n",
       "      <td>1</td>\n",
       "      <td>0</td>\n",
       "      <td>204</td>\n",
       "      <td>125000</td>\n",
       "    </tr>\n",
       "  </tbody>\n",
       "</table>\n",
       "</div>"
      ],
      "text/plain": [
       "   abtest_control  abtest_test  powerPS  kilometer\n",
       "0               0            1      170      30000\n",
       "1               0            1      258      60000\n",
       "2               0            1      258     150000\n",
       "3               0            1      211      30000\n",
       "4               1            0      204     125000"
      ]
     },
     "execution_count": 79,
     "metadata": {},
     "output_type": "execute_result"
    }
   ],
   "source": [
    "X_train.head()"
   ]
  },
  {
   "cell_type": "code",
   "execution_count": 80,
   "metadata": {},
   "outputs": [
    {
     "data": {
      "text/html": [
       "<div>\n",
       "<style scoped>\n",
       "    .dataframe tbody tr th:only-of-type {\n",
       "        vertical-align: middle;\n",
       "    }\n",
       "\n",
       "    .dataframe tbody tr th {\n",
       "        vertical-align: top;\n",
       "    }\n",
       "\n",
       "    .dataframe thead th {\n",
       "        text-align: right;\n",
       "    }\n",
       "</style>\n",
       "<table border=\"1\" class=\"dataframe\">\n",
       "  <thead>\n",
       "    <tr style=\"text-align: right;\">\n",
       "      <th></th>\n",
       "      <th>abtest_control</th>\n",
       "      <th>abtest_test</th>\n",
       "      <th>powerPS</th>\n",
       "      <th>kilometer</th>\n",
       "    </tr>\n",
       "  </thead>\n",
       "  <tbody>\n",
       "    <tr>\n",
       "      <th>0</th>\n",
       "      <td>0</td>\n",
       "      <td>1</td>\n",
       "      <td>0.3</td>\n",
       "      <td>0.2</td>\n",
       "    </tr>\n",
       "    <tr>\n",
       "      <th>1</th>\n",
       "      <td>0</td>\n",
       "      <td>1</td>\n",
       "      <td>0.4</td>\n",
       "      <td>0.4</td>\n",
       "    </tr>\n",
       "    <tr>\n",
       "      <th>2</th>\n",
       "      <td>0</td>\n",
       "      <td>1</td>\n",
       "      <td>0.4</td>\n",
       "      <td>1.0</td>\n",
       "    </tr>\n",
       "    <tr>\n",
       "      <th>3</th>\n",
       "      <td>0</td>\n",
       "      <td>1</td>\n",
       "      <td>0.4</td>\n",
       "      <td>0.2</td>\n",
       "    </tr>\n",
       "    <tr>\n",
       "      <th>4</th>\n",
       "      <td>1</td>\n",
       "      <td>0</td>\n",
       "      <td>0.3</td>\n",
       "      <td>0.8</td>\n",
       "    </tr>\n",
       "  </tbody>\n",
       "</table>\n",
       "</div>"
      ],
      "text/plain": [
       "   abtest_control  abtest_test  powerPS  kilometer\n",
       "0               0            1      0.3        0.2\n",
       "1               0            1      0.4        0.4\n",
       "2               0            1      0.4        1.0\n",
       "3               0            1      0.4        0.2\n",
       "4               1            0      0.3        0.8"
      ]
     },
     "execution_count": 80,
     "metadata": {},
     "output_type": "execute_result"
    }
   ],
   "source": [
    "X_train['powerPS'] = X_train['powerPS']/X_train['powerPS'].max()\n",
    "X_test['powerPS'] = X_test['powerPS']/X_test['powerPS'].max()\n",
    "X_train['kilometer'] = X_train['kilometer']/X_train['kilometer'].max()\n",
    "X_test['kilometer'] = X_test['kilometer']/X_test['kilometer'].max()\n",
    "X_train.head()"
   ]
  },
  {
   "cell_type": "code",
   "execution_count": 81,
   "metadata": {},
   "outputs": [],
   "source": [
    "model = Sequential()\n",
    "model.add(Dense(3,activation='relu'))\n",
    "\n",
    "model.add(Dense(1,activation='relu'))\n",
    "model.compile(optimizer='adam',loss='mse')\n",
    "early_stop = EarlyStopping(monitor='val_loss',\n",
    "                           mode='min',verbose=1,patience=2)"
   ]
  },
  {
   "cell_type": "code",
   "execution_count": 82,
   "metadata": {},
   "outputs": [
    {
     "name": "stdout",
     "output_type": "stream",
     "text": [
      "Train on 212 samples, validate on 46 samples\n",
      "Epoch 1/300\n",
      "212/212 [==============================] - 1s 3ms/sample - loss: 1617684001.8113 - val_loss: 1666005626.4348\n",
      "Epoch 2/300\n",
      "212/212 [==============================] - 0s 219us/sample - loss: 1617682668.6792 - val_loss: 1666004268.5217\n",
      "Epoch 3/300\n",
      "212/212 [==============================] - 0s 245us/sample - loss: 1617681223.2453 - val_loss: 1666002832.6957\n",
      "Epoch 4/300\n",
      "212/212 [==============================] - 0s 231us/sample - loss: 1617679814.0377 - val_loss: 1666001218.7826\n",
      "Epoch 5/300\n",
      "212/212 [==============================] - 0s 235us/sample - loss: 1617678333.5849 - val_loss: 1665999682.7826\n",
      "Epoch 6/300\n",
      "212/212 [==============================] - 0s 259us/sample - loss: 1617676756.5283 - val_loss: 1665998080.0000\n",
      "Epoch 7/300\n",
      "212/212 [==============================] - 0s 226us/sample - loss: 1617675090.1132 - val_loss: 1665996299.1304\n",
      "Epoch 8/300\n",
      "212/212 [==============================] - 0s 214us/sample - loss: 1617673273.9623 - val_loss: 1665994429.2174\n",
      "Epoch 9/300\n",
      "212/212 [==============================] - 0s 220us/sample - loss: 1617671535.0943 - val_loss: 1665992648.3478\n",
      "Epoch 10/300\n",
      "212/212 [==============================] - 0s 305us/sample - loss: 1617669530.5660 - val_loss: 1665990533.5652\n",
      "Epoch 11/300\n",
      "212/212 [==============================] - 0s 249us/sample - loss: 1617667598.4906 - val_loss: 1665988496.6957\n",
      "Epoch 12/300\n",
      "212/212 [==============================] - 0s 248us/sample - loss: 1617665391.0943 - val_loss: 1665986370.7826\n",
      "Epoch 13/300\n",
      "212/212 [==============================] - 0s 221us/sample - loss: 1617663289.9623 - val_loss: 1665984089.0435\n",
      "Epoch 14/300\n",
      "212/212 [==============================] - 0s 212us/sample - loss: 1617661019.7736 - val_loss: 1665981640.3478\n",
      "Epoch 15/300\n",
      "212/212 [==============================] - 0s 240us/sample - loss: 1617658667.4717 - val_loss: 1665979180.5217\n",
      "Epoch 16/300\n",
      "212/212 [==============================] - ETA: 0s - loss: 1643875712.00 - 0s 258us/sample - loss: 1617656170.2642 - val_loss: 1665976642.7826\n",
      "Epoch 17/300\n",
      "212/212 [==============================] - 0s 222us/sample - loss: 1617653651.3208 - val_loss: 1665974027.1304\n",
      "Epoch 18/300\n",
      "212/212 [==============================] - 0s 212us/sample - loss: 1617651014.0377 - val_loss: 1665971400.3478\n",
      "Epoch 19/300\n",
      "212/212 [==============================] - 0s 226us/sample - loss: 1617648316.3774 - val_loss: 1665968517.5652\n",
      "Epoch 20/300\n",
      "212/212 [==============================] - 0s 244us/sample - loss: 1617645587.3208 - val_loss: 1665965478.9565\n",
      "Epoch 21/300\n",
      "212/212 [==============================] - 0s 221us/sample - loss: 1617642636.0755 - val_loss: 1665962440.3478\n",
      "Epoch 22/300\n",
      "212/212 [==============================] - 0s 270us/sample - loss: 1617639684.8302 - val_loss: 1665959312.6957\n",
      "Epoch 23/300\n",
      "212/212 [==============================] - 0s 229us/sample - loss: 1617636699.7736 - val_loss: 1665956018.0870\n",
      "Epoch 24/300\n",
      "212/212 [==============================] - 0s 216us/sample - loss: 1617633548.0755 - val_loss: 1665952645.5652\n",
      "Epoch 25/300\n",
      "212/212 [==============================] - 0s 211us/sample - loss: 1617630326.3396 - val_loss: 1665949184.0000\n",
      "Epoch 26/300\n",
      "212/212 [==============================] - 0s 245us/sample - loss: 1617626995.9245 - val_loss: 1665945711.3043\n",
      "Epoch 27/300\n",
      "212/212 [==============================] - 0s 216us/sample - loss: 1617623672.7547 - val_loss: 1665942082.7826\n",
      "Epoch 28/300\n",
      "212/212 [==============================] - 0s 233us/sample - loss: 1617620195.0189 - val_loss: 1665938287.3043\n",
      "Epoch 29/300\n",
      "212/212 [==============================] - 0s 231us/sample - loss: 1617616567.5472 - val_loss: 1665934569.7391\n",
      "Epoch 30/300\n",
      "212/212 [==============================] - 0s 254us/sample - loss: 1617612932.8302 - val_loss: 1665930518.2609\n",
      "Epoch 31/300\n",
      "212/212 [==============================] - 0s 212us/sample - loss: 1617609112.1509 - val_loss: 1665926455.6522\n",
      "Epoch 32/300\n",
      "212/212 [==============================] - 0s 231us/sample - loss: 1617605255.2453 - val_loss: 1665922237.2174\n",
      "Epoch 33/300\n",
      "212/212 [==============================] - 0s 268us/sample - loss: 1617601352.4528 - val_loss: 1665918185.7391\n",
      "Epoch 34/300\n",
      "212/212 [==============================] - 0s 274us/sample - loss: 1617597249.2075 - val_loss: 1665913800.3478\n",
      "Epoch 35/300\n",
      "212/212 [==============================] - 0s 272us/sample - loss: 1617593109.7358 - val_loss: 1665909314.7826\n",
      "Epoch 36/300\n",
      "212/212 [==============================] - 0s 353us/sample - loss: 1617588822.9434 - val_loss: 1665904751.3043\n",
      "Epoch 37/300\n",
      "212/212 [==============================] - 0s 226us/sample - loss: 1617584507.1698 - val_loss: 1665900109.9130\n",
      "Epoch 38/300\n",
      "212/212 [==============================] - 0s 231us/sample - loss: 1617580053.7358 - val_loss: 1665895301.5652\n",
      "Epoch 39/300\n",
      "212/212 [==============================] - 0s 223us/sample - loss: 1617575486.7925 - val_loss: 1665890571.1304\n",
      "Epoch 40/300\n",
      "212/212 [==============================] - 0s 240us/sample - loss: 1617570915.0189 - val_loss: 1665885584.6957\n",
      "Epoch 41/300\n",
      "212/212 [==============================] - 0s 224us/sample - loss: 1617566203.1698 - val_loss: 1665880687.3043\n",
      "Epoch 42/300\n",
      "212/212 [==============================] - 0s 222us/sample - loss: 1617561394.7170 - val_loss: 1665875533.9130\n",
      "Epoch 43/300\n",
      "212/212 [==============================] - 0s 202us/sample - loss: 1617556540.3774 - val_loss: 1665870213.5652\n",
      "Epoch 44/300\n",
      "212/212 [==============================] - 0s 193us/sample - loss: 1617551451.7736 - val_loss: 1665864893.2174\n",
      "Epoch 45/300\n",
      "212/212 [==============================] - 0s 232us/sample - loss: 1617546392.1509 - val_loss: 1665859494.9565\n",
      "Epoch 46/300\n",
      "212/212 [==============================] - 0s 221us/sample - loss: 1617541252.8302 - val_loss: 1665854085.5652\n",
      "Epoch 47/300\n",
      "212/212 [==============================] - 0s 193us/sample - loss: 1617535942.0377 - val_loss: 1665848264.3478\n",
      "Epoch 48/300\n",
      "212/212 [==============================] - 0s 202us/sample - loss: 1617530551.5472 - val_loss: 1665842598.9565\n",
      "Epoch 49/300\n",
      "212/212 [==============================] - 0s 249us/sample - loss: 1617525204.5283 - val_loss: 1665836777.7391\n",
      "Epoch 50/300\n",
      "212/212 [==============================] - 0s 259us/sample - loss: 1617519558.0377 - val_loss: 1665830700.5217\n",
      "Epoch 51/300\n",
      "212/212 [==============================] - 0s 199us/sample - loss: 1617514025.0566 - val_loss: 1665824790.2609\n",
      "Epoch 52/300\n",
      "212/212 [==============================] - 0s 203us/sample - loss: 1617508134.6415 - val_loss: 1665818790.9565\n",
      "Epoch 53/300\n",
      "212/212 [==============================] - 0s 221us/sample - loss: 1617502367.3962 - val_loss: 1665812457.7391\n",
      "Epoch 54/300\n",
      "212/212 [==============================] - 0s 202us/sample - loss: 1617496411.7736 - val_loss: 1665806046.6087\n",
      "Epoch 55/300\n",
      "212/212 [==============================] - 0s 197us/sample - loss: 1617490398.1887 - val_loss: 1665799546.4348\n",
      "Epoch 56/300\n",
      "212/212 [==============================] - 0s 198us/sample - loss: 1617484201.0566 - val_loss: 1665793046.2609\n",
      "Epoch 57/300\n",
      "212/212 [==============================] - 0s 202us/sample - loss: 1617477977.3585 - val_loss: 1665786368.0000\n",
      "Epoch 58/300\n",
      "212/212 [==============================] - 0s 221us/sample - loss: 1617471724.6792 - val_loss: 1665779611.8261\n",
      "Epoch 59/300\n",
      "212/212 [==============================] - 0s 245us/sample - loss: 1617465223.2453 - val_loss: 1665772855.6522\n",
      "Epoch 60/300\n",
      "212/212 [==============================] - 0s 298us/sample - loss: 1617458692.8302 - val_loss: 1665765854.6087\n",
      "Epoch 61/300\n",
      "212/212 [==============================] - 0s 238us/sample - loss: 1617452053.7358 - val_loss: 1665758675.4783\n",
      "Epoch 62/300\n",
      "212/212 [==============================] - 0s 240us/sample - loss: 1617445376.0000 - val_loss: 1665751496.3478\n",
      "Epoch 63/300\n",
      "212/212 [==============================] - 0s 198us/sample - loss: 1617438497.8113 - val_loss: 1665744239.3043\n",
      "Epoch 64/300\n",
      "212/212 [==============================] - 0s 198us/sample - loss: 1617431617.2075 - val_loss: 1665736893.2174\n",
      "Epoch 65/300\n",
      "212/212 [==============================] - 0s 193us/sample - loss: 1617424611.0189 - val_loss: 1665729291.1304\n",
      "Epoch 66/300\n"
     ]
    },
    {
     "name": "stdout",
     "output_type": "stream",
     "text": [
      "212/212 [==============================] - 0s 183us/sample - loss: 1617417467.1698 - val_loss: 1665721778.0870\n",
      "Epoch 67/300\n",
      "212/212 [==============================] - 0s 212us/sample - loss: 1617410332.9811 - val_loss: 1665714098.0870\n",
      "Epoch 68/300\n",
      "212/212 [==============================] - 0s 193us/sample - loss: 1617403075.6226 - val_loss: 1665706329.0435\n",
      "Epoch 69/300\n",
      "212/212 [==============================] - 0s 202us/sample - loss: 1617395533.2830 - val_loss: 1665698482.0870\n",
      "Epoch 70/300\n",
      "212/212 [==============================] - 0s 216us/sample - loss: 1617388230.0377 - val_loss: 1665690457.0435\n",
      "Epoch 71/300\n",
      "212/212 [==============================] - 0s 207us/sample - loss: 1617380608.0000 - val_loss: 1665682265.0435\n",
      "Epoch 72/300\n",
      "212/212 [==============================] - 0s 183us/sample - loss: 1617372850.7170 - val_loss: 1665674162.0870\n",
      "Epoch 73/300\n",
      "212/212 [==============================] - 0s 207us/sample - loss: 1617365293.8868 - val_loss: 1665665803.1304\n",
      "Epoch 74/300\n",
      "212/212 [==============================] - 0s 226us/sample - loss: 1617357420.6792 - val_loss: 1665657444.1739\n",
      "Epoch 75/300\n",
      "212/212 [==============================] - 0s 306us/sample - loss: 1617349504.0000 - val_loss: 1665648929.3913\n",
      "Epoch 76/300\n",
      "212/212 [==============================] - 0s 235us/sample - loss: 1617341362.7170 - val_loss: 1665640392.3478\n",
      "Epoch 77/300\n",
      "212/212 [==============================] - 0s 221us/sample - loss: 1617333281.8113 - val_loss: 1665631699.4783\n",
      "Epoch 78/300\n",
      "212/212 [==============================] - 0s 198us/sample - loss: 1617325138.1132 - val_loss: 1665622828.5217\n",
      "Epoch 79/300\n",
      "212/212 [==============================] - 0s 212us/sample - loss: 1617316888.1509 - val_loss: 1665613890.7826\n",
      "Epoch 80/300\n",
      "212/212 [==============================] - 0s 192us/sample - loss: 1617308399.0943 - val_loss: 1665605019.8261\n",
      "Epoch 81/300\n",
      "212/212 [==============================] - 0s 193us/sample - loss: 1617299760.3019 - val_loss: 1665595981.9130\n",
      "Epoch 82/300\n",
      "212/212 [==============================] - 0s 198us/sample - loss: 1617291242.2642 - val_loss: 1665586777.0435\n",
      "Epoch 83/300\n",
      "212/212 [==============================] - 0s 196us/sample - loss: 1617282528.6038 - val_loss: 1665577416.3478\n",
      "Epoch 84/300\n",
      "212/212 [==============================] - 0s 263us/sample - loss: 1617273969.5094 - val_loss: 1665568133.5652\n",
      "Epoch 85/300\n",
      "212/212 [==============================] - 0s 240us/sample - loss: 1617265033.6604 - val_loss: 1665558505.7391\n",
      "Epoch 86/300\n",
      "212/212 [==============================] - 0s 226us/sample - loss: 1617256010.8679 - val_loss: 1665549211.8261\n",
      "Epoch 87/300\n",
      "212/212 [==============================] - 0s 212us/sample - loss: 1617246925.2830 - val_loss: 1665539428.1739\n",
      "Epoch 88/300\n",
      "212/212 [==============================] - 0s 209us/sample - loss: 1617238016.0000 - val_loss: 1665529633.3913\n",
      "Epoch 89/300\n",
      "212/212 [==============================] - 0s 202us/sample - loss: 1617228606.7925 - val_loss: 1665519916.5217\n",
      "Epoch 90/300\n",
      "212/212 [==============================] - 0s 188us/sample - loss: 1617219323.1698 - val_loss: 1665509965.9130\n",
      "Epoch 91/300\n",
      "212/212 [==============================] - 0s 216us/sample - loss: 1617209976.7547 - val_loss: 1665499826.0870\n",
      "Epoch 92/300\n",
      "212/212 [==============================] - 0s 212us/sample - loss: 1617200357.4340 - val_loss: 1665489530.4348\n",
      "Epoch 93/300\n",
      "212/212 [==============================] - 0s 198us/sample - loss: 1617190839.5472 - val_loss: 1665479234.7826\n",
      "Epoch 94/300\n",
      "212/212 [==============================] - 0s 226us/sample - loss: 1617180985.9623 - val_loss: 1665468850.0870\n",
      "Epoch 95/300\n",
      "212/212 [==============================] - 0s 259us/sample - loss: 1617171335.2453 - val_loss: 1665458387.4783\n",
      "Epoch 96/300\n",
      "212/212 [==============================] - 0s 212us/sample - loss: 1617161288.4528 - val_loss: 1665447824.6957\n",
      "Epoch 97/300\n",
      "212/212 [==============================] - 0s 226us/sample - loss: 1617151488.0000 - val_loss: 1665436939.1304\n",
      "Epoch 98/300\n",
      "212/212 [==============================] - 0s 210us/sample - loss: 1617141330.1132 - val_loss: 1665426220.5217\n",
      "Epoch 99/300\n",
      "212/212 [==============================] - 0s 187us/sample - loss: 1617131036.9811 - val_loss: 1665415412.8696\n",
      "Epoch 100/300\n",
      "212/212 [==============================] - 0s 195us/sample - loss: 1617120985.3585 - val_loss: 1665404360.3478\n",
      "Epoch 101/300\n",
      "212/212 [==============================] - 0s 191us/sample - loss: 1617110474.8679 - val_loss: 1665393463.6522\n",
      "Epoch 102/300\n",
      "212/212 [==============================] - 0s 190us/sample - loss: 1617100128.6038 - val_loss: 1665382322.0870\n",
      "Epoch 103/300\n",
      "212/212 [==============================] - 0s 188us/sample - loss: 1617089671.2453 - val_loss: 1665371013.5652\n",
      "Epoch 104/300\n",
      "212/212 [==============================] - 0s 196us/sample - loss: 1617079064.1509 - val_loss: 1665359693.9130\n",
      "Epoch 105/300\n",
      "212/212 [==============================] - 0s 211us/sample - loss: 1617068519.8491 - val_loss: 1665348129.3913\n",
      "Epoch 106/300\n",
      "212/212 [==============================] - 0s 216us/sample - loss: 1617057700.2264 - val_loss: 1665336731.8261\n",
      "Epoch 107/300\n",
      "212/212 [==============================] - 0s 202us/sample - loss: 1617046796.0755 - val_loss: 1665325256.3478\n",
      "Epoch 108/300\n",
      "212/212 [==============================] - 0s 202us/sample - loss: 1617035925.7358 - val_loss: 1665313513.7391\n",
      "Epoch 109/300\n",
      "212/212 [==============================] - 0s 194us/sample - loss: 1617024970.8679 - val_loss: 1665301615.3043\n",
      "Epoch 110/300\n",
      "212/212 [==============================] - 0s 202us/sample - loss: 1617013856.6038 - val_loss: 1665289805.9130\n",
      "Epoch 111/300\n",
      "212/212 [==============================] - 0s 202us/sample - loss: 1617002556.3774 - val_loss: 1665277974.2609\n",
      "Epoch 112/300\n",
      "212/212 [==============================] - 0s 187us/sample - loss: 1616991335.8491 - val_loss: 1665265819.8261\n",
      "Epoch 113/300\n",
      "212/212 [==============================] - 0s 196us/sample - loss: 1616979965.5849 - val_loss: 1665253665.3913\n",
      "Epoch 114/300\n",
      "212/212 [==============================] - 0s 195us/sample - loss: 1616968486.6415 - val_loss: 1665241433.0435\n",
      "Epoch 115/300\n",
      "212/212 [==============================] - 0s 190us/sample - loss: 1616956836.2264 - val_loss: 1665229100.5217\n",
      "Epoch 116/300\n",
      "212/212 [==============================] - 0s 196us/sample - loss: 1616945528.7547 - val_loss: 1665216612.1739\n",
      "Epoch 117/300\n",
      "212/212 [==============================] - 0s 235us/sample - loss: 1616933769.6604 - val_loss: 1665204201.7391\n",
      "Epoch 118/300\n",
      "212/212 [==============================] - 0s 223us/sample - loss: 1616921812.5283 - val_loss: 1665191457.3913\n",
      "Epoch 119/300\n",
      "212/212 [==============================] - 0s 214us/sample - loss: 1616910241.8113 - val_loss: 1665178635.1304\n",
      "Epoch 120/300\n",
      "212/212 [==============================] - 0s 193us/sample - loss: 1616898081.8113 - val_loss: 1665165879.6522\n",
      "Epoch 121/300\n",
      "212/212 [==============================] - ETA: 0s - loss: 1475785984.00 - 0s 207us/sample - loss: 1616885854.1887 - val_loss: 1665153046.2609\n",
      "Epoch 122/300\n",
      "212/212 [==============================] - 0s 196us/sample - loss: 1616873991.2453 - val_loss: 1665140134.9565\n",
      "Epoch 123/300\n",
      "212/212 [==============================] - 0s 195us/sample - loss: 1616861768.4528 - val_loss: 1665127045.5652\n",
      "Epoch 124/300\n",
      "212/212 [==============================] - 0s 221us/sample - loss: 1616849306.5660 - val_loss: 1665113967.3043\n",
      "Epoch 125/300\n",
      "212/212 [==============================] - 0s 216us/sample - loss: 1616837252.8302 - val_loss: 1665100633.0435\n",
      "Epoch 126/300\n",
      "212/212 [==============================] - 0s 190us/sample - loss: 1616824426.2642 - val_loss: 1665087376.6957\n",
      "Epoch 127/300\n",
      "212/212 [==============================] - 0s 190us/sample - loss: 1616812005.4340 - val_loss: 1665073786.4348\n",
      "Epoch 128/300\n",
      "212/212 [==============================] - 0s 204us/sample - loss: 1616799434.8679 - val_loss: 1665060363.1304\n",
      "Epoch 129/300\n",
      "212/212 [==============================] - 0s 194us/sample - loss: 1616786663.8491 - val_loss: 1665046605.9130\n",
      "Epoch 130/300\n",
      "212/212 [==============================] - 0s 202us/sample - loss: 1616773820.3774 - val_loss: 1665033015.6522\n",
      "Epoch 131/300\n"
     ]
    },
    {
     "name": "stdout",
     "output_type": "stream",
     "text": [
      "212/212 [==============================] - 0s 189us/sample - loss: 1616760868.2264 - val_loss: 1665019336.3478\n",
      "Epoch 132/300\n",
      "212/212 [==============================] - 0s 207us/sample - loss: 1616748053.7358 - val_loss: 1665005156.1739\n",
      "Epoch 133/300\n",
      "212/212 [==============================] - 0s 184us/sample - loss: 1616734862.4906 - val_loss: 1664991142.9565\n",
      "Epoch 134/300\n",
      "212/212 [==============================] - 0s 202us/sample - loss: 1616721705.0566 - val_loss: 1664977051.8261\n",
      "Epoch 135/300\n",
      "212/212 [==============================] - 0s 189us/sample - loss: 1616708489.6604 - val_loss: 1664963038.6087\n",
      "Epoch 136/300\n",
      "212/212 [==============================] - 0s 199us/sample - loss: 1616695194.5660 - val_loss: 1664948936.3478\n",
      "Epoch 137/300\n",
      "212/212 [==============================] - 0s 188us/sample - loss: 1616681829.4340 - val_loss: 1664934589.2174\n",
      "Epoch 138/300\n",
      "212/212 [==============================] - 0s 197us/sample - loss: 1616668551.2453 - val_loss: 1664919986.0870\n",
      "Epoch 139/300\n",
      "212/212 [==============================] - 0s 188us/sample - loss: 1616654806.9434 - val_loss: 1664905472.0000\n",
      "Epoch 140/300\n",
      "212/212 [==============================] - 0s 195us/sample - loss: 1616641207.5472 - val_loss: 1664891113.7391\n",
      "Epoch 141/300\n",
      "212/212 [==============================] - 0s 188us/sample - loss: 1616627623.8491 - val_loss: 1664876343.6522\n",
      "Epoch 142/300\n",
      "212/212 [==============================] - 0s 209us/sample - loss: 1616613639.2453 - val_loss: 1664861573.5652\n",
      "Epoch 143/300\n",
      "212/212 [==============================] - 0s 195us/sample - loss: 1616599904.6038 - val_loss: 1664846714.4348\n",
      "Epoch 144/300\n",
      "212/212 [==============================] - 0s 185us/sample - loss: 1616585981.5849 - val_loss: 1664831866.4348\n",
      "Epoch 145/300\n",
      "212/212 [==============================] - 0s 183us/sample - loss: 1616571855.6981 - val_loss: 1664816918.2609\n",
      "Epoch 146/300\n",
      "212/212 [==============================] - 0s 201us/sample - loss: 1616557949.5849 - val_loss: 1664801725.2174\n",
      "Epoch 147/300\n",
      "212/212 [==============================] - 0s 198us/sample - loss: 1616543550.7925 - val_loss: 1664786621.2174\n",
      "Epoch 148/300\n",
      "212/212 [==============================] - 0s 188us/sample - loss: 1616529354.8679 - val_loss: 1664771250.0870\n",
      "Epoch 149/300\n",
      "212/212 [==============================] - 0s 183us/sample - loss: 1616514883.6226 - val_loss: 1664755901.2174\n",
      "Epoch 150/300\n",
      "212/212 [==============================] - 0s 207us/sample - loss: 1616500591.0943 - val_loss: 1664740363.1304\n",
      "Epoch 151/300\n",
      "212/212 [==============================] - 0s 184us/sample - loss: 1616485996.6792 - val_loss: 1664724747.1304\n",
      "Epoch 152/300\n",
      "212/212 [==============================] - 0s 187us/sample - loss: 1616471262.1887 - val_loss: 1664709131.1304\n",
      "Epoch 153/300\n",
      "212/212 [==============================] - 0s 188us/sample - loss: 1616456643.6226 - val_loss: 1664693181.2174\n",
      "Epoch 154/300\n",
      "212/212 [==============================] - 0s 203us/sample - loss: 1616441841.5094 - val_loss: 1664677387.1304\n",
      "Epoch 155/300\n",
      "212/212 [==============================] - 0s 189us/sample - loss: 1616426942.7925 - val_loss: 1664661615.3043\n",
      "Epoch 156/300\n",
      "212/212 [==============================] - 0s 196us/sample - loss: 1616412244.5283 - val_loss: 1664645576.3478\n",
      "Epoch 157/300\n",
      "212/212 [==============================] - 0s 179us/sample - loss: 1616397196.0755 - val_loss: 1664629537.3913\n",
      "Epoch 158/300\n",
      "212/212 [==============================] - 0s 187us/sample - loss: 1616382251.4717 - val_loss: 1664613587.4783\n",
      "Epoch 159/300\n",
      "212/212 [==============================] - 0s 183us/sample - loss: 1616366850.4151 - val_loss: 1664597381.5652\n",
      "Epoch 160/300\n",
      "212/212 [==============================] - 0s 205us/sample - loss: 1616351806.7925 - val_loss: 1664581175.6522\n",
      "Epoch 161/300\n",
      "212/212 [==============================] - 0s 179us/sample - loss: 1616336582.0377 - val_loss: 1664564880.6957\n",
      "Epoch 162/300\n",
      "212/212 [==============================] - 0s 200us/sample - loss: 1616321229.2830 - val_loss: 1664548429.9130\n",
      "Epoch 163/300\n",
      "212/212 [==============================] - 0s 213us/sample - loss: 1616305813.7358 - val_loss: 1664531789.9130\n",
      "Epoch 164/300\n",
      "212/212 [==============================] - 0s 193us/sample - loss: 1616290130.1132 - val_loss: 1664515250.0870\n",
      "Epoch 165/300\n",
      "212/212 [==============================] - 0s 207us/sample - loss: 1616274550.3396 - val_loss: 1664498454.2609\n",
      "Epoch 166/300\n",
      "212/212 [==============================] - 0s 207us/sample - loss: 1616259067.1698 - val_loss: 1664481491.4783\n",
      "Epoch 167/300\n",
      "212/212 [==============================] - 0s 219us/sample - loss: 1616242944.0000 - val_loss: 1664464606.6087\n",
      "Epoch 168/300\n",
      "212/212 [==============================] - 0s 209us/sample - loss: 1616227207.2453 - val_loss: 1664447721.7391\n",
      "Epoch 169/300\n",
      "212/212 [==============================] - 0s 203us/sample - loss: 1616211055.0943 - val_loss: 1664430758.9565\n",
      "Epoch 170/300\n",
      "212/212 [==============================] - 0s 200us/sample - loss: 1616195306.2642 - val_loss: 1664413373.2174\n",
      "Epoch 171/300\n",
      "212/212 [==============================] - 0s 212us/sample - loss: 1616179185.5094 - val_loss: 1664395987.4783\n",
      "Epoch 172/300\n",
      "212/212 [==============================] - 0s 187us/sample - loss: 1616162946.4151 - val_loss: 1664378857.7391\n",
      "Epoch 173/300\n",
      "212/212 [==============================] - 0s 201us/sample - loss: 1616146688.0000 - val_loss: 1664361460.8696\n",
      "Epoch 174/300\n",
      "212/212 [==============================] - 0s 198us/sample - loss: 1616130330.5660 - val_loss: 1664343908.1739\n",
      "Epoch 175/300\n",
      "212/212 [==============================] - 0s 188us/sample - loss: 1616114052.8302 - val_loss: 1664326266.4348\n",
      "Epoch 176/300\n",
      "212/212 [==============================] - 0s 185us/sample - loss: 1616097415.2453 - val_loss: 1664308624.6957\n",
      "Epoch 177/300\n",
      "212/212 [==============================] - 0s 187us/sample - loss: 1616080953.9623 - val_loss: 1664290982.9565\n",
      "Epoch 178/300\n",
      "212/212 [==============================] - 0s 191us/sample - loss: 1616064115.9245 - val_loss: 1664273341.2174\n",
      "Epoch 179/300\n",
      "212/212 [==============================] - 0s 185us/sample - loss: 1616047816.4528 - val_loss: 1664255109.5652\n",
      "Epoch 180/300\n",
      "212/212 [==============================] - 0s 182us/sample - loss: 1616030502.6415 - val_loss: 1664237289.7391\n",
      "Epoch 181/300\n",
      "212/212 [==============================] - 0s 207us/sample - loss: 1616013877.1321 - val_loss: 1664219236.1739\n",
      "Epoch 182/300\n",
      "212/212 [==============================] - 0s 185us/sample - loss: 1615997101.8868 - val_loss: 1664201093.5652\n",
      "Epoch 183/300\n",
      "212/212 [==============================] - 0s 197us/sample - loss: 1615979945.0566 - val_loss: 1664182861.9130\n",
      "Epoch 184/300\n",
      "212/212 [==============================] - 0s 183us/sample - loss: 1615962957.2830 - val_loss: 1664164708.1739\n",
      "Epoch 185/300\n",
      "212/212 [==============================] - 0s 199us/sample - loss: 1615945749.7358 - val_loss: 1664146309.5652\n",
      "Epoch 186/300\n",
      "212/212 [==============================] - 0s 193us/sample - loss: 1615928457.6604 - val_loss: 1664127833.0435\n",
      "Epoch 187/300\n",
      "212/212 [==============================] - 0s 195us/sample - loss: 1615911426.4151 - val_loss: 1664109267.4783\n",
      "Epoch 188/300\n",
      "212/212 [==============================] - 0s 184us/sample - loss: 1615893817.9623 - val_loss: 1664090690.7826\n",
      "Epoch 189/300\n",
      "212/212 [==============================] - 0s 210us/sample - loss: 1615876308.5283 - val_loss: 1664072203.1304\n",
      "Epoch 190/300\n",
      "212/212 [==============================] - 0s 188us/sample - loss: 1615859168.6038 - val_loss: 1664053125.5652\n",
      "Epoch 191/300\n",
      "212/212 [==============================] - 0s 186us/sample - loss: 1615841408.0000 - val_loss: 1664034560.0000\n",
      "Epoch 192/300\n",
      "212/212 [==============================] - 0s 186us/sample - loss: 1615823913.0566 - val_loss: 1664015571.4783\n",
      "Epoch 193/300\n",
      "212/212 [==============================] - 0s 206us/sample - loss: 1615806273.2075 - val_loss: 1663996582.9565\n",
      "Epoch 194/300\n",
      "212/212 [==============================] - 0s 183us/sample - loss: 1615788278.3396 - val_loss: 1663977583.3043\n",
      "Epoch 195/300\n",
      "212/212 [==============================] - 0s 210us/sample - loss: 1615770416.3019 - val_loss: 1663958427.8261\n",
      "Epoch 196/300\n"
     ]
    },
    {
     "name": "stdout",
     "output_type": "stream",
     "text": [
      "212/212 [==============================] - 0s 194us/sample - loss: 1615752467.3208 - val_loss: 1663939272.3478\n",
      "Epoch 197/300\n",
      "212/212 [==============================] - 0s 191us/sample - loss: 1615734610.1132 - val_loss: 1663919860.8696\n",
      "Epoch 198/300\n",
      "212/212 [==============================] - 0s 177us/sample - loss: 1615716588.6792 - val_loss: 1663900360.3478\n",
      "Epoch 199/300\n",
      "212/212 [==============================] - 0s 202us/sample - loss: 1615698072.1509 - val_loss: 1663881115.8261\n",
      "Epoch 200/300\n",
      "212/212 [==============================] - 0s 179us/sample - loss: 1615680002.4151 - val_loss: 1663861615.3043\n",
      "Epoch 201/300\n",
      "212/212 [==============================] - 0s 193us/sample - loss: 1615661877.1321 - val_loss: 1663841947.8261\n",
      "Epoch 202/300\n",
      "212/212 [==============================] - 0s 187us/sample - loss: 1615643404.0755 - val_loss: 1663822291.4783\n",
      "Epoch 203/300\n",
      "212/212 [==============================] - 0s 198us/sample - loss: 1615625044.5283 - val_loss: 1663802379.1304\n",
      "Epoch 204/300\n",
      "212/212 [==============================] - 0s 183us/sample - loss: 1615606412.0755 - val_loss: 1663782700.5217\n",
      "Epoch 205/300\n",
      "212/212 [==============================] - 0s 193us/sample - loss: 1615588038.0377 - val_loss: 1663762777.0435\n",
      "Epoch 206/300\n",
      "212/212 [==============================] - 0s 183us/sample - loss: 1615569234.1132 - val_loss: 1663743109.5652\n",
      "Epoch 207/300\n",
      "212/212 [==============================] - 0s 198us/sample - loss: 1615550406.0377 - val_loss: 1663723108.1739\n",
      "Epoch 208/300\n",
      "212/212 [==============================] - 0s 192us/sample - loss: 1615531949.8868 - val_loss: 1663702683.8261\n",
      "Epoch 209/300\n",
      "212/212 [==============================] - 0s 206us/sample - loss: 1615512633.9623 - val_loss: 1663682515.4783\n",
      "Epoch 210/300\n",
      "212/212 [==============================] - 0s 193us/sample - loss: 1615493921.8113 - val_loss: 1663662091.1304\n",
      "Epoch 211/300\n",
      "212/212 [==============================] - 0s 185us/sample - loss: 1615474562.4151 - val_loss: 1663641833.7391\n",
      "Epoch 212/300\n",
      "212/212 [==============================] - 0s 187us/sample - loss: 1615455623.2453 - val_loss: 1663621487.3043\n",
      "Epoch 213/300\n",
      "212/212 [==============================] - 0s 200us/sample - loss: 1615436599.5472 - val_loss: 1663600640.0000\n",
      "Epoch 214/300\n",
      "212/212 [==============================] - 0s 188us/sample - loss: 1615417368.1509 - val_loss: 1663579970.7826\n",
      "Epoch 215/300\n",
      "212/212 [==============================] - 0s 207us/sample - loss: 1615397866.2642 - val_loss: 1663559535.3043\n",
      "Epoch 216/300\n",
      "212/212 [==============================] - 0s 187us/sample - loss: 1615378745.9623 - val_loss: 1663538777.0435\n",
      "Epoch 217/300\n",
      "212/212 [==============================] - 0s 198us/sample - loss: 1615359072.6038 - val_loss: 1663518018.7826\n",
      "Epoch 218/300\n",
      "212/212 [==============================] - 0s 179us/sample - loss: 1615339862.9434 - val_loss: 1663496915.4783\n",
      "Epoch 219/300\n",
      "212/212 [==============================] - 0s 212us/sample - loss: 1615319885.2830 - val_loss: 1663476235.1304\n",
      "Epoch 220/300\n",
      "212/212 [==============================] - 0s 188us/sample - loss: 1615300376.1509 - val_loss: 1663454886.9565\n",
      "Epoch 221/300\n",
      "212/212 [==============================] - 0s 189us/sample - loss: 1615280911.6981 - val_loss: 1663433616.6957\n",
      "Epoch 222/300\n",
      "212/212 [==============================] - 0s 183us/sample - loss: 1615260843.4717 - val_loss: 1663412513.3913\n",
      "Epoch 223/300\n",
      "212/212 [==============================] - 0s 216us/sample - loss: 1615241237.7358 - val_loss: 1663391243.1304\n",
      "Epoch 224/300\n",
      "212/212 [==============================] - 0s 190us/sample - loss: 1615221030.6415 - val_loss: 1663369972.8696\n",
      "Epoch 225/300\n",
      "212/212 [==============================] - 0s 202us/sample - loss: 1615201152.0000 - val_loss: 1663348780.5217\n",
      "Epoch 226/300\n",
      "212/212 [==============================] - 0s 190us/sample - loss: 1615181316.8302 - val_loss: 1663327265.3913\n",
      "Epoch 227/300\n",
      "212/212 [==============================] - 0s 191us/sample - loss: 1615160952.7547 - val_loss: 1663305828.1739\n",
      "Epoch 228/300\n",
      "212/212 [==============================] - 0s 188us/sample - loss: 1615140864.0000 - val_loss: 1663284057.0435\n",
      "Epoch 229/300\n",
      "212/212 [==============================] - 0s 196us/sample - loss: 1615120746.2642 - val_loss: 1663262018.7826\n",
      "Epoch 230/300\n",
      "212/212 [==============================] - 0s 202us/sample - loss: 1615099923.3208 - val_loss: 1663240080.6957\n",
      "Epoch 231/300\n",
      "212/212 [==============================] - 0s 188us/sample - loss: 1615079288.7547 - val_loss: 1663218309.5652\n",
      "Epoch 232/300\n",
      "212/212 [==============================] - 0s 188us/sample - loss: 1615059001.9623 - val_loss: 1663196193.3913\n",
      "Epoch 233/300\n",
      "212/212 [==============================] - 0s 191us/sample - loss: 1615038698.2642 - val_loss: 1663173999.3043\n",
      "Epoch 234/300\n",
      "212/212 [==============================] - 0s 182us/sample - loss: 1615017597.5849 - val_loss: 1663151961.0435\n",
      "Epoch 235/300\n",
      "212/212 [==============================] - 0s 192us/sample - loss: 1614997029.4340 - val_loss: 1663129844.8696\n",
      "Epoch 236/300\n",
      "212/212 [==============================] - 0s 180us/sample - loss: 1614976275.3208 - val_loss: 1663107817.7391\n",
      "Epoch 237/300\n",
      "212/212 [==============================] - 0s 183us/sample - loss: 1614955800.1509 - val_loss: 1663085367.6522\n",
      "Epoch 238/300\n",
      "212/212 [==============================] - 0s 183us/sample - loss: 1614934784.0000 - val_loss: 1663063173.5652\n",
      "Epoch 239/300\n",
      "212/212 [==============================] - 0s 220us/sample - loss: 1614913840.3019 - val_loss: 1663040801.3913\n",
      "Epoch 240/300\n",
      "212/212 [==============================] - 0s 193us/sample - loss: 1614893205.7358 - val_loss: 1663018273.3913\n",
      "Epoch 241/300\n",
      "212/212 [==============================] - 0s 188us/sample - loss: 1614872018.1132 - val_loss: 1662995823.3043\n",
      "Epoch 242/300\n",
      "212/212 [==============================] - 0s 186us/sample - loss: 1614850743.5472 - val_loss: 1662973362.0870\n",
      "Epoch 243/300\n",
      "212/212 [==============================] - 0s 203us/sample - loss: 1614829456.9057 - val_loss: 1662950912.0000\n",
      "Epoch 244/300\n",
      "212/212 [==============================] - 0s 189us/sample - loss: 1614808566.3396 - val_loss: 1662927961.0435\n",
      "Epoch 245/300\n",
      "212/212 [==============================] - 0s 212us/sample - loss: 1614786948.8302 - val_loss: 1662905088.0000\n",
      "Epoch 246/300\n",
      "212/212 [==============================] - 0s 208us/sample - loss: 1614765621.1321 - val_loss: 1662881881.0435\n",
      "Epoch 247/300\n",
      "212/212 [==============================] - 0s 188us/sample - loss: 1614744225.8113 - val_loss: 1662858585.0435\n",
      "Epoch 248/300\n",
      "212/212 [==============================] - 0s 190us/sample - loss: 1614722376.4528 - val_loss: 1662835545.0435\n",
      "Epoch 249/300\n",
      "212/212 [==============================] - 0s 194us/sample - loss: 1614700949.7358 - val_loss: 1662812260.1739\n",
      "Epoch 250/300\n",
      "212/212 [==============================] - 0s 193us/sample - loss: 1614679180.0755 - val_loss: 1662789120.0000\n",
      "Epoch 251/300\n",
      "212/212 [==============================] - 0s 197us/sample - loss: 1614657345.2075 - val_loss: 1662765913.0435\n",
      "Epoch 252/300\n",
      "212/212 [==============================] - 0s 192us/sample - loss: 1614635819.4717 - val_loss: 1662742539.1304\n",
      "Epoch 253/300\n",
      "212/212 [==============================] - 0s 216us/sample - loss: 1614613830.0377 - val_loss: 1662719154.0870\n",
      "Epoch 254/300\n",
      "212/212 [==============================] - 0s 188us/sample - loss: 1614591886.4906 - val_loss: 1662695858.0870\n",
      "Epoch 255/300\n",
      "212/212 [==============================] - 0s 206us/sample - loss: 1614570068.5283 - val_loss: 1662672562.0870\n",
      "Epoch 256/300\n",
      "212/212 [==============================] - 0s 193us/sample - loss: 1614548086.3396 - val_loss: 1662649010.0870\n",
      "Epoch 257/300\n",
      "212/212 [==============================] - 0s 189us/sample - loss: 1614525980.9811 - val_loss: 1662625458.0870\n",
      "Epoch 258/300\n",
      "212/212 [==============================] - 0s 190us/sample - loss: 1614503757.2830 - val_loss: 1662601839.3043\n",
      "Epoch 259/300\n",
      "212/212 [==============================] - 0s 216us/sample - loss: 1614481717.1321 - val_loss: 1662577786.4348\n",
      "Epoch 260/300\n",
      "212/212 [==============================] - 0s 192us/sample - loss: 1614459307.4717 - val_loss: 1662553811.4783\n",
      "Epoch 261/300\n"
     ]
    },
    {
     "name": "stdout",
     "output_type": "stream",
     "text": [
      "212/212 [==============================] - 0s 193us/sample - loss: 1614437023.3962 - val_loss: 1662529591.6522\n",
      "Epoch 262/300\n",
      "212/212 [==============================] - 0s 197us/sample - loss: 1614414420.5283 - val_loss: 1662505527.6522\n",
      "Epoch 263/300\n",
      "212/212 [==============================] - 0s 179us/sample - loss: 1614391817.6604 - val_loss: 1662481563.8261\n",
      "Epoch 264/300\n",
      "212/212 [==============================] - 0s 207us/sample - loss: 1614369313.8113 - val_loss: 1662457421.9130\n",
      "Epoch 265/300\n",
      "212/212 [==============================] - 0s 179us/sample - loss: 1614347008.0000 - val_loss: 1662432879.3043\n",
      "Epoch 266/300\n",
      "212/212 [==============================] - 0s 217us/sample - loss: 1614323818.2642 - val_loss: 1662408815.3043\n",
      "Epoch 267/300\n",
      "212/212 [==============================] - 0s 198us/sample - loss: 1614301140.5283 - val_loss: 1662384417.3913\n",
      "Epoch 268/300\n",
      "212/212 [==============================] - 0s 197us/sample - loss: 1614278614.9434 - val_loss: 1662359696.6957\n",
      "Epoch 269/300\n",
      "212/212 [==============================] - 0s 198us/sample - loss: 1614255437.2830 - val_loss: 1662334964.8696\n",
      "Epoch 270/300\n",
      "212/212 [==============================] - 0s 188us/sample - loss: 1614232320.0000 - val_loss: 1662310322.0870\n",
      "Epoch 271/300\n",
      "212/212 [==============================] - 0s 216us/sample - loss: 1614209432.1509 - val_loss: 1662285846.2609\n",
      "Epoch 272/300\n",
      "212/212 [==============================] - 0s 207us/sample - loss: 1614186143.3962 - val_loss: 1662261125.5652\n",
      "Epoch 273/300\n",
      "212/212 [==============================] - 0s 207us/sample - loss: 1614163086.4906 - val_loss: 1662236382.6087\n",
      "Epoch 274/300\n",
      "212/212 [==============================] - 0s 193us/sample - loss: 1614140082.7170 - val_loss: 1662211483.8261\n",
      "Epoch 275/300\n",
      "212/212 [==============================] - 0s 183us/sample - loss: 1614116731.1698 - val_loss: 1662186752.0000\n",
      "Epoch 276/300\n",
      "212/212 [==============================] - 0s 184us/sample - loss: 1614093297.5094 - val_loss: 1662161764.1739\n",
      "Epoch 277/300\n",
      "212/212 [==============================] - 0s 202us/sample - loss: 1614070073.9623 - val_loss: 1662136620.5217\n",
      "Epoch 278/300\n",
      "212/212 [==============================] - 0s 184us/sample - loss: 1614046604.0755 - val_loss: 1662111554.7826\n",
      "Epoch 279/300\n",
      "212/212 [==============================] - 0s 183us/sample - loss: 1614023264.6038 - val_loss: 1662086155.1304\n",
      "Epoch 280/300\n",
      "212/212 [==============================] - 0s 202us/sample - loss: 1613999357.5849 - val_loss: 1662061089.3913\n",
      "Epoch 281/300\n",
      "212/212 [==============================] - 0s 202us/sample - loss: 1613975658.2642 - val_loss: 1662035856.6957\n",
      "Epoch 282/300\n",
      "212/212 [==============================] - 0s 212us/sample - loss: 1613952434.7170 - val_loss: 1662010290.0870\n",
      "Epoch 283/300\n",
      "212/212 [==============================] - 0s 198us/sample - loss: 1613928346.5660 - val_loss: 1661984701.2174\n",
      "Epoch 284/300\n",
      "212/212 [==============================] - 0s 185us/sample - loss: 1613904236.6792 - val_loss: 1661959212.5217\n",
      "Epoch 285/300\n",
      "212/212 [==============================] - 0s 202us/sample - loss: 1613880728.1509 - val_loss: 1661933556.8696\n",
      "Epoch 286/300\n",
      "212/212 [==============================] - 0s 184us/sample - loss: 1613856647.2453 - val_loss: 1661907901.2174\n",
      "Epoch 287/300\n",
      "212/212 [==============================] - 0s 196us/sample - loss: 1613832851.3208 - val_loss: 1661882078.6087\n",
      "Epoch 288/300\n",
      "212/212 [==============================] - 0s 185us/sample - loss: 1613808590.4906 - val_loss: 1661856411.8261\n",
      "Epoch 289/300\n",
      "212/212 [==============================] - 0s 240us/sample - loss: 1613784609.8113 - val_loss: 1661830756.1739\n",
      "Epoch 290/300\n",
      "212/212 [==============================] - 0s 212us/sample - loss: 1613760381.5849 - val_loss: 1661805100.5217\n",
      "Epoch 291/300\n",
      "212/212 [==============================] - 0s 287us/sample - loss: 1613736720.9057 - val_loss: 1661778932.8696\n",
      "Epoch 292/300\n",
      "212/212 [==============================] - 0s 290us/sample - loss: 1613711859.9245 - val_loss: 1661753021.2174\n",
      "Epoch 293/300\n",
      "212/212 [==============================] - 0s 252us/sample - loss: 1613687696.9057 - val_loss: 1661726786.7826\n",
      "Epoch 294/300\n",
      "212/212 [==============================] - 0s 228us/sample - loss: 1613663021.8868 - val_loss: 1661700786.0870\n",
      "Epoch 295/300\n",
      "212/212 [==============================] - 0s 193us/sample - loss: 1613639146.2642 - val_loss: 1661674195.4783\n",
      "Epoch 296/300\n",
      "212/212 [==============================] - 0s 194us/sample - loss: 1613614058.2642 - val_loss: 1661648116.8696\n",
      "Epoch 297/300\n",
      "212/212 [==============================] - 0s 198us/sample - loss: 1613589888.0000 - val_loss: 1661621537.3913\n",
      "Epoch 298/300\n",
      "212/212 [==============================] - 0s 188us/sample - loss: 1613565002.8679 - val_loss: 1661595035.8261\n",
      "Epoch 299/300\n",
      "212/212 [==============================] - 0s 287us/sample - loss: 1613539791.6981 - val_loss: 1661568957.2174\n",
      "Epoch 300/300\n",
      "212/212 [==============================] - 0s 300us/sample - loss: 1613515546.5660 - val_loss: 1661542199.6522\n"
     ]
    },
    {
     "data": {
      "text/plain": [
       "<tensorflow.python.keras.callbacks.History at 0x2a92d4dc848>"
      ]
     },
     "execution_count": 82,
     "metadata": {},
     "output_type": "execute_result"
    }
   ],
   "source": [
    "model.fit(X_train.values,y_train.values,epochs=300,validation_data=(X_test.values,y_test.values),\n",
    "          callbacks = [early_stop])"
   ]
  },
  {
   "cell_type": "code",
   "execution_count": 83,
   "metadata": {},
   "outputs": [
    {
     "data": {
      "text/plain": [
       "<matplotlib.axes._subplots.AxesSubplot at 0x2a92db87d48>"
      ]
     },
     "execution_count": 83,
     "metadata": {},
     "output_type": "execute_result"
    },
    {
     "data": {
      "image/png": "[encoded data removed]",
      "text/plain": [
       "<Figure size 432x288 with 1 Axes>"
      ]
     },
     "metadata": {
      "needs_background": "light"
     },
     "output_type": "display_data"
    }
   ],
   "source": [
    "loss = pd.DataFrame(model.history.history)\n",
    "loss.plot()"
   ]
  },
  {
   "cell_type": "code",
   "execution_count": 84,
   "metadata": {},
   "outputs": [],
   "source": [
    "pred = model.predict(X_test.values)"
   ]
  },
  {
   "cell_type": "code",
   "execution_count": 85,
   "metadata": {},
   "outputs": [
    {
     "data": {
      "text/plain": [
       "37275.966123498"
      ]
     },
     "execution_count": 85,
     "metadata": {},
     "output_type": "execute_result"
    }
   ],
   "source": [
    "Mean_Absolute_Error = np.mean(abs(y_test.values-abs(pred)))  \n",
    "Mean_Absolute_Error"
   ]
  },
  {
   "cell_type": "code",
   "execution_count": 86,
   "metadata": {},
   "outputs": [
    {
     "name": "stdout",
     "output_type": "stream",
     "text": [
      "RMSE model is : 40762.015625\n",
      "First true price and prediction : 24999 , 54\n"
     ]
    }
   ],
   "source": [
    "error=RootMeanSquaredError()\n",
    "error.update_state(y_test.values,pred)\n",
    "print('RMSE model is : {}'.format(error.result().numpy()))\n",
    "print('First true price and prediction : {} , {}'.format(y_test.values[0],\n",
    "                                                        int(pred[0])))"
   ]
  },
  {
   "cell_type": "code",
   "execution_count": 87,
   "metadata": {},
   "outputs": [
    {
     "data": {
      "text/plain": [
       "[<matplotlib.lines.Line2D at 0x2a92dce6508>]"
      ]
     },
     "execution_count": 87,
     "metadata": {},
     "output_type": "execute_result"
    },
    {
     "data": {
      "image/png": "[encoded data removed]",
      "text/plain": [
       "<Figure size 720x360 with 1 Axes>"
      ]
     },
     "metadata": {
      "needs_background": "light"
     },
     "output_type": "display_data"
    }
   ],
   "source": [
    "plt.figure(figsize=(10,5))\n",
    "plt.scatter(x=y_test.values,y=pred)\n",
    "plt.xlabel('True')\n",
    "plt.ylabel('Prediction')\n",
    "plt.plot(y_test.values,y_test.values,'r')\n",
    "#BLUE DOT SHOWS PREDICTION PATTERN AND RED LINE SHOW TRUE/PERFECT VALUE PATTERN"
   ]
  },
  {
   "cell_type": "markdown",
   "metadata": {},
   "source": [
    "# MODEL BECOME WORST WITH REDUCTION OF  NUMERICAL FEATURES WITH SCALE VALUE. IT MAY DUE TO INSUFFICIENT DATA, HYPERPARAMETER, OR MODEL NETWORK FOR LEARNING."
   ]
  }
 ],
 "metadata": {
  "kernelspec": {
   "display_name": "Python 3",
   "language": "python",
   "name": "python3"
  },
  "language_info": {
   "codemirror_mode": {
    "name": "ipython",
    "version": 3
   },
   "file_extension": ".py",
   "mimetype": "text/x-python",
   "name": "python",
   "nbconvert_exporter": "python",
   "pygments_lexer": "ipython3",
   "version": "3.7.6"
  }
 },
 "nbformat": 4,
 "nbformat_minor": 4
}
