{
  "nbformat": 4,
  "nbformat_minor": 0,
  "metadata": {
    "colab": {
      "name": "Simple Linear Regression - prices of houses in California",
      "provenance": [],
      "collapsed_sections": [],
      "authorship_tag": "ABX9TyMsq7+kh8s4fZ/Zk8WgC/Jf",
      "include_colab_link": true
    },
    "kernelspec": {
      "name": "python3",
      "display_name": "Python 3"
    }
  },
  "cells": [
    {
      "cell_type": "markdown",
      "metadata": {
        "id": "view-in-github",
        "colab_type": "text"
      },
      "source": [
        "<a href=\"https://colab.research.google.com/github/yperdana/predicting-used-car-price-based-on-kilometer/blob/master/predict_mercedes_benz_used_price.ipynb\" target=\"_parent\"><img src=\"https://colab.research.google.com/assets/colab-badge.svg\" alt=\"Open In Colab\"/></a>"
      ]
    },
    {
      "cell_type": "markdown",
      "metadata": {
        "id": "YgyGafFJsQ25",
        "colab_type": "text"
      },
      "source": [
        "this project created to gain more exercise linear regression with real dataset. this project also part of Bangkit Academy. \n",
        "\n",
        "we try to learn and do modification. we try to predict something new such as corelation between median_house_value and median_income. \n",
        "\n",
        "Our team members: Yohanes, Eko, Yogic. \n",
        "\n",
        "source: https://colab.research.google.com/drive/1BLjEdyADzVC5nvkJ_yASffxyOmiOCJaM#scrollTo=YgyGafFJsQ25&line=4&uniqifier=1"
      ]
    },
    {
      "cell_type": "markdown",
      "metadata": {
        "id": "x2wltwLa4Yp0",
        "colab_type": "text"
      },
      "source": [
        "Learning Objectives:\n",
        "1. Play with Tensorflow\n",
        "2. Import and Learn linear regression with real dataset.\n",
        "3. find data corelation.\n",
        "4. Make hypothesis\n",
        "5. Learn to create model.\n",
        "6. Experiment with dataset and features.\n",
        "7. Tweaking hyperparameters.\n",
        "8. Visualize the result."
      ]
    },
    {
      "cell_type": "code",
      "metadata": {
        "id": "nNF-D60psBRg",
        "colab_type": "code",
        "colab": {}
      },
      "source": [
        "#@title Run on TensorFlow 2.x\n",
        "%tensorflow_version 2.x\n",
        "\n",
        "# Import relevant libraries\n",
        "import pandas as pd\n",
        "import tensorflow as tf\n",
        "from matplotlib import pyplot as plt\n",
        "\n",
        "# SETTING UP PANDAS \n",
        "# The following lines adjust the granularity of reporting. \n",
        "pd.options.display.max_rows = 10\n",
        "pd.options.display.float_format = \"{:.1f}\".format"
      ],
      "execution_count": 0,
      "outputs": []
    },
    {
      "cell_type": "markdown",
      "metadata": {
        "id": "4BmsW09T5Vod",
        "colab_type": "text"
      },
      "source": [
        "Import and setting usually not hard but necessary and less error if we run in codelab. We use tensorflow version 2 for machine learning task. Numpy for math calculation, and pandas to store data in memory."
      ]
    },
    {
      "cell_type": "code",
      "metadata": {
        "id": "xG1GliUf5m1N",
        "colab_type": "code",
        "colab": {
          "base_uri": "https://localhost:8080/",
          "height": 224
        },
        "outputId": "c8f17ab0-31ae-43e3-ddba-28219839473e"
      },
      "source": [
        "# Import the dataset.\n",
        "training_df = pd.read_csv(filepath_or_buffer=\"https://download.mlcc.google.com/mledu-datasets/california_housing_train.csv\")\n",
        "\n",
        "# Scale the label.\n",
        "training_df[\"median_house_value\"] /= 1000.0\n",
        "\n",
        "# Print the first rows of the pandas DataFrame.\n",
        "training_df.head()"
      ],
      "execution_count": 5,
      "outputs": [
        {
          "output_type": "execute_result",
          "data": {
            "text/html": [
              "<div>\n",
              "<style scoped>\n",
              "    .dataframe tbody tr th:only-of-type {\n",
              "        vertical-align: middle;\n",
              "    }\n",
              "\n",
              "    .dataframe tbody tr th {\n",
              "        vertical-align: top;\n",
              "    }\n",
              "\n",
              "    .dataframe thead th {\n",
              "        text-align: right;\n",
              "    }\n",
              "</style>\n",
              "<table border=\"1\" class=\"dataframe\">\n",
              "  <thead>\n",
              "    <tr style=\"text-align: right;\">\n",
              "      <th></th>\n",
              "      <th>longitude</th>\n",
              "      <th>latitude</th>\n",
              "      <th>housing_median_age</th>\n",
              "      <th>total_rooms</th>\n",
              "      <th>total_bedrooms</th>\n",
              "      <th>population</th>\n",
              "      <th>households</th>\n",
              "      <th>median_income</th>\n",
              "      <th>median_house_value</th>\n",
              "    </tr>\n",
              "  </thead>\n",
              "  <tbody>\n",
              "    <tr>\n",
              "      <th>0</th>\n",
              "      <td>-114.3</td>\n",
              "      <td>34.2</td>\n",
              "      <td>15.0</td>\n",
              "      <td>5612.0</td>\n",
              "      <td>1283.0</td>\n",
              "      <td>1015.0</td>\n",
              "      <td>472.0</td>\n",
              "      <td>1.5</td>\n",
              "      <td>66.9</td>\n",
              "    </tr>\n",
              "    <tr>\n",
              "      <th>1</th>\n",
              "      <td>-114.5</td>\n",
              "      <td>34.4</td>\n",
              "      <td>19.0</td>\n",
              "      <td>7650.0</td>\n",
              "      <td>1901.0</td>\n",
              "      <td>1129.0</td>\n",
              "      <td>463.0</td>\n",
              "      <td>1.8</td>\n",
              "      <td>80.1</td>\n",
              "    </tr>\n",
              "    <tr>\n",
              "      <th>2</th>\n",
              "      <td>-114.6</td>\n",
              "      <td>33.7</td>\n",
              "      <td>17.0</td>\n",
              "      <td>720.0</td>\n",
              "      <td>174.0</td>\n",
              "      <td>333.0</td>\n",
              "      <td>117.0</td>\n",
              "      <td>1.7</td>\n",
              "      <td>85.7</td>\n",
              "    </tr>\n",
              "    <tr>\n",
              "      <th>3</th>\n",
              "      <td>-114.6</td>\n",
              "      <td>33.6</td>\n",
              "      <td>14.0</td>\n",
              "      <td>1501.0</td>\n",
              "      <td>337.0</td>\n",
              "      <td>515.0</td>\n",
              "      <td>226.0</td>\n",
              "      <td>3.2</td>\n",
              "      <td>73.4</td>\n",
              "    </tr>\n",
              "    <tr>\n",
              "      <th>4</th>\n",
              "      <td>-114.6</td>\n",
              "      <td>33.6</td>\n",
              "      <td>20.0</td>\n",
              "      <td>1454.0</td>\n",
              "      <td>326.0</td>\n",
              "      <td>624.0</td>\n",
              "      <td>262.0</td>\n",
              "      <td>1.9</td>\n",
              "      <td>65.5</td>\n",
              "    </tr>\n",
              "  </tbody>\n",
              "</table>\n",
              "</div>"
            ],
            "text/plain": [
              "   longitude  latitude  ...  median_income  median_house_value\n",
              "0     -114.3      34.2  ...            1.5                66.9\n",
              "1     -114.5      34.4  ...            1.8                80.1\n",
              "2     -114.6      33.7  ...            1.7                85.7\n",
              "3     -114.6      33.6  ...            3.2                73.4\n",
              "4     -114.6      33.6  ...            1.9                65.5\n",
              "\n",
              "[5 rows x 9 columns]"
            ]
          },
          "metadata": {
            "tags": []
          },
          "execution_count": 5
        }
      ]
    },
    {
      "cell_type": "markdown",
      "metadata": {
        "id": "dlfKndQe69Ph",
        "colab_type": "text"
      },
      "source": [
        "Importing data set, scaling median_house_value and print some of data to check overal data."
      ]
    },
    {
      "cell_type": "code",
      "metadata": {
        "id": "PBhmdrun9xD1",
        "colab_type": "code",
        "colab": {
          "base_uri": "https://localhost:8080/",
          "height": 317
        },
        "outputId": "10f588ac-957c-4782-d0db-987df55a3fee"
      },
      "source": [
        "# Get statistics on the dataset.\n",
        "training_df.describe()"
      ],
      "execution_count": 6,
      "outputs": [
        {
          "output_type": "execute_result",
          "data": {
            "text/html": [
              "<div>\n",
              "<style scoped>\n",
              "    .dataframe tbody tr th:only-of-type {\n",
              "        vertical-align: middle;\n",
              "    }\n",
              "\n",
              "    .dataframe tbody tr th {\n",
              "        vertical-align: top;\n",
              "    }\n",
              "\n",
              "    .dataframe thead th {\n",
              "        text-align: right;\n",
              "    }\n",
              "</style>\n",
              "<table border=\"1\" class=\"dataframe\">\n",
              "  <thead>\n",
              "    <tr style=\"text-align: right;\">\n",
              "      <th></th>\n",
              "      <th>longitude</th>\n",
              "      <th>latitude</th>\n",
              "      <th>housing_median_age</th>\n",
              "      <th>total_rooms</th>\n",
              "      <th>total_bedrooms</th>\n",
              "      <th>population</th>\n",
              "      <th>households</th>\n",
              "      <th>median_income</th>\n",
              "      <th>median_house_value</th>\n",
              "    </tr>\n",
              "  </thead>\n",
              "  <tbody>\n",
              "    <tr>\n",
              "      <th>count</th>\n",
              "      <td>17000.0</td>\n",
              "      <td>17000.0</td>\n",
              "      <td>17000.0</td>\n",
              "      <td>17000.0</td>\n",
              "      <td>17000.0</td>\n",
              "      <td>17000.0</td>\n",
              "      <td>17000.0</td>\n",
              "      <td>17000.0</td>\n",
              "      <td>17000.0</td>\n",
              "    </tr>\n",
              "    <tr>\n",
              "      <th>mean</th>\n",
              "      <td>-119.6</td>\n",
              "      <td>35.6</td>\n",
              "      <td>28.6</td>\n",
              "      <td>2643.7</td>\n",
              "      <td>539.4</td>\n",
              "      <td>1429.6</td>\n",
              "      <td>501.2</td>\n",
              "      <td>3.9</td>\n",
              "      <td>207.3</td>\n",
              "    </tr>\n",
              "    <tr>\n",
              "      <th>std</th>\n",
              "      <td>2.0</td>\n",
              "      <td>2.1</td>\n",
              "      <td>12.6</td>\n",
              "      <td>2179.9</td>\n",
              "      <td>421.5</td>\n",
              "      <td>1147.9</td>\n",
              "      <td>384.5</td>\n",
              "      <td>1.9</td>\n",
              "      <td>116.0</td>\n",
              "    </tr>\n",
              "    <tr>\n",
              "      <th>min</th>\n",
              "      <td>-124.3</td>\n",
              "      <td>32.5</td>\n",
              "      <td>1.0</td>\n",
              "      <td>2.0</td>\n",
              "      <td>1.0</td>\n",
              "      <td>3.0</td>\n",
              "      <td>1.0</td>\n",
              "      <td>0.5</td>\n",
              "      <td>15.0</td>\n",
              "    </tr>\n",
              "    <tr>\n",
              "      <th>25%</th>\n",
              "      <td>-121.8</td>\n",
              "      <td>33.9</td>\n",
              "      <td>18.0</td>\n",
              "      <td>1462.0</td>\n",
              "      <td>297.0</td>\n",
              "      <td>790.0</td>\n",
              "      <td>282.0</td>\n",
              "      <td>2.6</td>\n",
              "      <td>119.4</td>\n",
              "    </tr>\n",
              "    <tr>\n",
              "      <th>50%</th>\n",
              "      <td>-118.5</td>\n",
              "      <td>34.2</td>\n",
              "      <td>29.0</td>\n",
              "      <td>2127.0</td>\n",
              "      <td>434.0</td>\n",
              "      <td>1167.0</td>\n",
              "      <td>409.0</td>\n",
              "      <td>3.5</td>\n",
              "      <td>180.4</td>\n",
              "    </tr>\n",
              "    <tr>\n",
              "      <th>75%</th>\n",
              "      <td>-118.0</td>\n",
              "      <td>37.7</td>\n",
              "      <td>37.0</td>\n",
              "      <td>3151.2</td>\n",
              "      <td>648.2</td>\n",
              "      <td>1721.0</td>\n",
              "      <td>605.2</td>\n",
              "      <td>4.8</td>\n",
              "      <td>265.0</td>\n",
              "    </tr>\n",
              "    <tr>\n",
              "      <th>max</th>\n",
              "      <td>-114.3</td>\n",
              "      <td>42.0</td>\n",
              "      <td>52.0</td>\n",
              "      <td>37937.0</td>\n",
              "      <td>6445.0</td>\n",
              "      <td>35682.0</td>\n",
              "      <td>6082.0</td>\n",
              "      <td>15.0</td>\n",
              "      <td>500.0</td>\n",
              "    </tr>\n",
              "  </tbody>\n",
              "</table>\n",
              "</div>"
            ],
            "text/plain": [
              "       longitude  latitude  ...  median_income  median_house_value\n",
              "count    17000.0   17000.0  ...        17000.0             17000.0\n",
              "mean      -119.6      35.6  ...            3.9               207.3\n",
              "std          2.0       2.1  ...            1.9               116.0\n",
              "min       -124.3      32.5  ...            0.5                15.0\n",
              "25%       -121.8      33.9  ...            2.6               119.4\n",
              "50%       -118.5      34.2  ...            3.5               180.4\n",
              "75%       -118.0      37.7  ...            4.8               265.0\n",
              "max       -114.3      42.0  ...           15.0               500.0\n",
              "\n",
              "[8 rows x 9 columns]"
            ]
          },
          "metadata": {
            "tags": []
          },
          "execution_count": 6
        }
      ]
    },
    {
      "cell_type": "code",
      "metadata": {
        "id": "TLLq4T08Z-hN",
        "colab_type": "code",
        "colab": {
          "base_uri": "https://localhost:8080/",
          "height": 34
        },
        "outputId": "fa96dea6-aaeb-48ac-d4b3-d518c5153c7c"
      },
      "source": [
        "#@title Define the functions that build and train a model\n",
        "def build_model(my_learning_rate):\n",
        "  \"\"\"Create and compile a simple linear regression model.\"\"\"\n",
        "  # Most simple tf.keras models are sequential.\n",
        "  model = tf.keras.models.Sequential()\n",
        "\n",
        "  # Describe the topography of the model.\n",
        "  # The topography of a simple linear regression model\n",
        "  # is a single node in a single layer.\n",
        "  model.add(tf.keras.layers.Dense(units=1, \n",
        "                                  input_shape=(1,)))\n",
        "\n",
        "  # Compile the model topography into code that TensorFlow can efficiently\n",
        "  # execute. Configure training to minimize the model's mean squared error. \n",
        "  model.compile(optimizer=tf.keras.optimizers.RMSprop(lr=my_learning_rate),\n",
        "                loss=\"mean_squared_error\",\n",
        "                metrics=[tf.keras.metrics.RootMeanSquaredError()])\n",
        "\n",
        "  return model        \n",
        "\n",
        "\n",
        "def train_model(model, df, feature, label, epochs, batch_size):\n",
        "  \"\"\"Train the model by feeding it data.\"\"\"\n",
        "\n",
        "  # Feed the model the feature and the label.\n",
        "  # The model will train for the specified number of epochs. \n",
        "  history = model.fit(x=df[feature],\n",
        "                      y=df[label],\n",
        "                      batch_size=None,\n",
        "                      epochs=epochs)\n",
        "\n",
        "  # Gather the trained model's weight and bias.\n",
        "  trained_weight = model.get_weights()[0]\n",
        "  trained_bias = model.get_weights()[1]\n",
        "\n",
        "  # The list of epochs is stored separately from the rest of history.\n",
        "  epochs = history.epoch\n",
        "  \n",
        "  # Isolate the error for each epoch.\n",
        "  hist = pd.DataFrame(history.history)\n",
        "\n",
        "  # To track the progression of training, we're going to take a snapshot\n",
        "  # of the model's root mean squared error at each epoch. \n",
        "  rmse = hist[\"root_mean_squared_error\"]\n",
        "\n",
        "  return trained_weight, trained_bias, epochs, rmse\n",
        "\n",
        "print(\"Defined the create_model and traing_model functions.\")"
      ],
      "execution_count": 8,
      "outputs": [
        {
          "output_type": "stream",
          "text": [
            "Defined the create_model and traing_model functions.\n"
          ],
          "name": "stdout"
        }
      ]
    },
    {
      "cell_type": "code",
      "metadata": {
        "id": "QrYXkbp0jFCl",
        "colab_type": "code",
        "colab": {
          "base_uri": "https://localhost:8080/",
          "height": 34
        },
        "outputId": "9287d0a7-4d25-4205-877c-64e672a6ff38"
      },
      "source": [
        "#@title Define the plotting functions\n",
        "def plot_the_model(trained_weight, trained_bias, feature, label, largest_value):\n",
        "  \"\"\"Plot the trained model against 200 random training examples.\"\"\"\n",
        "\n",
        "  # Label the axes.\n",
        "  plt.xlabel(feature)\n",
        "  plt.ylabel(label)\n",
        "\n",
        "  # Create a scatter plot from 200 random points of the dataset.\n",
        "  random_examples = training_df.sample(n=200)\n",
        "  plt.scatter(random_examples[feature], random_examples[label])\n",
        "\n",
        "  # Create a red line representing the model. The red line starts\n",
        "  # at coordinates (x0, y0) and ends at coordinates (x1, y1).\n",
        "  x0 = 0\n",
        "  y0 = trained_bias\n",
        "  x1 = largest_value\n",
        "  y1 = trained_bias + (trained_weight * x1)\n",
        "  plt.plot([x0, x1], [y0, y1], c='r')\n",
        "\n",
        "  # Render the scatter plot and the red line.\n",
        "  plt.show()\n",
        "\n",
        "\n",
        "def plot_the_loss_curve(epochs, rmse):\n",
        "  \"\"\"Plot a curve of loss vs. epoch.\"\"\"\n",
        "\n",
        "  plt.figure()\n",
        "  plt.xlabel(\"Epoch\")\n",
        "  plt.ylabel(\"Root Mean Squared Error\")\n",
        "\n",
        "  plt.plot(epochs, rmse, label=\"Loss\")\n",
        "  plt.legend()\n",
        "  plt.ylim([rmse.min()*0.97, rmse.max()])\n",
        "  plt.show()  \n",
        "\n",
        "print(\"Defined the plot_the_model and plot_the_loss_curve functions.\")"
      ],
      "execution_count": 14,
      "outputs": [
        {
          "output_type": "stream",
          "text": [
            "Defined the plot_the_model and plot_the_loss_curve functions.\n"
          ],
          "name": "stdout"
        }
      ]
    },
    {
      "cell_type": "markdown",
      "metadata": {
        "id": "0n5njmNLnRwJ",
        "colab_type": "text"
      },
      "source": [
        "Our Hypothesis:\n",
        "1. Median_house_value have corelation with median_income.\n",
        "2. Population with total rooms\n",
        "3. households with total_rooms\n"
      ]
    },
    {
      "cell_type": "code",
      "metadata": {
        "id": "S5R1IB0cjPB3",
        "colab_type": "code",
        "colab": {
          "base_uri": "https://localhost:8080/",
          "height": 1000
        },
        "outputId": "9ae5a1f3-a422-42a4-d48f-98680d4972ec"
      },
      "source": [
        "# Testing Corelation between median_house_value and median income.\n",
        "\n",
        "# Selecting label and feature\n",
        "my_feature = \"median_house_value\"\n",
        "my_label=\"median_income\" \n",
        "\n",
        "# Assign values to these three hyperparameters.\n",
        "learning_rate = 0.0001\n",
        "epochs = 50\n",
        "batch_size =  30\n",
        "\n",
        "# Don't change anything below this line.\n",
        "my_model = build_model(learning_rate)\n",
        "weight, bias, epochs, rmse = train_model(my_model, training_df,\n",
        "                                         my_feature, my_label,\n",
        "                                         epochs, batch_size)\n",
        "\n",
        "plot_the_model(weight, bias, my_feature, my_label,500)\n",
        "plot_the_loss_curve(epochs, rmse)"
      ],
      "execution_count": 11,
      "outputs": [
        {
          "output_type": "stream",
          "text": [
            "Train on 17000 samples\n",
            "Epoch 1/50\n",
            "17000/17000 [==============================] - 1s 50us/sample - loss: 19748.0488 - root_mean_squared_error: 140.5278\n",
            "Epoch 2/50\n",
            "17000/17000 [==============================] - 1s 35us/sample - loss: 16398.4481 - root_mean_squared_error: 128.0565\n",
            "Epoch 3/50\n",
            "17000/17000 [==============================] - 1s 35us/sample - loss: 13360.7179 - root_mean_squared_error: 115.5886\n",
            "Epoch 4/50\n",
            "17000/17000 [==============================] - 1s 38us/sample - loss: 10657.4583 - root_mean_squared_error: 103.2349\n",
            "Epoch 5/50\n",
            "17000/17000 [==============================] - 1s 37us/sample - loss: 8246.8917 - root_mean_squared_error: 90.8124\n",
            "Epoch 6/50\n",
            "17000/17000 [==============================] - 1s 38us/sample - loss: 6148.6658 - root_mean_squared_error: 78.4134\n",
            "Epoch 7/50\n",
            "17000/17000 [==============================] - 1s 36us/sample - loss: 4355.2454 - root_mean_squared_error: 65.9943\n",
            "Epoch 8/50\n",
            "17000/17000 [==============================] - 1s 35us/sample - loss: 2877.8931 - root_mean_squared_error: 53.6460\n",
            "Epoch 9/50\n",
            "17000/17000 [==============================] - 1s 36us/sample - loss: 1705.5187 - root_mean_squared_error: 41.2979\n",
            "Epoch 10/50\n",
            "17000/17000 [==============================] - 1s 35us/sample - loss: 843.9226 - root_mean_squared_error: 29.0503\n",
            "Epoch 11/50\n",
            "17000/17000 [==============================] - 1s 37us/sample - loss: 284.8685 - root_mean_squared_error: 16.8780\n",
            "Epoch 12/50\n",
            "17000/17000 [==============================] - 1s 36us/sample - loss: 33.1282 - root_mean_squared_error: 5.7557\n",
            "Epoch 13/50\n",
            "17000/17000 [==============================] - 1s 37us/sample - loss: 2.0880 - root_mean_squared_error: 1.4450\n",
            "Epoch 14/50\n",
            "17000/17000 [==============================] - 1s 35us/sample - loss: 2.0746 - root_mean_squared_error: 1.4403\n",
            "Epoch 15/50\n",
            "17000/17000 [==============================] - 1s 37us/sample - loss: 2.0624 - root_mean_squared_error: 1.4361\n",
            "Epoch 16/50\n",
            "17000/17000 [==============================] - 1s 37us/sample - loss: 2.0497 - root_mean_squared_error: 1.4317\n",
            "Epoch 17/50\n",
            "17000/17000 [==============================] - 1s 37us/sample - loss: 2.0381 - root_mean_squared_error: 1.4276\n",
            "Epoch 18/50\n",
            "17000/17000 [==============================] - 1s 36us/sample - loss: 2.0296 - root_mean_squared_error: 1.4246\n",
            "Epoch 19/50\n",
            "17000/17000 [==============================] - 1s 36us/sample - loss: 2.0187 - root_mean_squared_error: 1.4208\n",
            "Epoch 20/50\n",
            "17000/17000 [==============================] - 1s 39us/sample - loss: 2.0111 - root_mean_squared_error: 1.4181\n",
            "Epoch 21/50\n",
            "17000/17000 [==============================] - 1s 36us/sample - loss: 2.0013 - root_mean_squared_error: 1.4147\n",
            "Epoch 22/50\n",
            "17000/17000 [==============================] - 1s 36us/sample - loss: 1.9940 - root_mean_squared_error: 1.4121\n",
            "Epoch 23/50\n",
            "17000/17000 [==============================] - 1s 36us/sample - loss: 1.9868 - root_mean_squared_error: 1.4095\n",
            "Epoch 24/50\n",
            "17000/17000 [==============================] - 1s 36us/sample - loss: 1.9805 - root_mean_squared_error: 1.4073\n",
            "Epoch 25/50\n",
            "17000/17000 [==============================] - 1s 36us/sample - loss: 1.9728 - root_mean_squared_error: 1.4046\n",
            "Epoch 26/50\n",
            "17000/17000 [==============================] - 1s 37us/sample - loss: 1.9681 - root_mean_squared_error: 1.4029\n",
            "Epoch 27/50\n",
            "17000/17000 [==============================] - 1s 40us/sample - loss: 1.9612 - root_mean_squared_error: 1.4004\n",
            "Epoch 28/50\n",
            "17000/17000 [==============================] - 1s 37us/sample - loss: 1.9545 - root_mean_squared_error: 1.3980\n",
            "Epoch 29/50\n",
            "17000/17000 [==============================] - 1s 38us/sample - loss: 1.9516 - root_mean_squared_error: 1.3970\n",
            "Epoch 30/50\n",
            "17000/17000 [==============================] - 1s 37us/sample - loss: 1.9483 - root_mean_squared_error: 1.3958\n",
            "Epoch 31/50\n",
            "17000/17000 [==============================] - 1s 35us/sample - loss: 1.9430 - root_mean_squared_error: 1.3939\n",
            "Epoch 32/50\n",
            "17000/17000 [==============================] - 1s 38us/sample - loss: 1.9408 - root_mean_squared_error: 1.3931\n",
            "Epoch 33/50\n",
            "17000/17000 [==============================] - 1s 37us/sample - loss: 1.9378 - root_mean_squared_error: 1.3920\n",
            "Epoch 34/50\n",
            "17000/17000 [==============================] - 1s 37us/sample - loss: 1.9347 - root_mean_squared_error: 1.3910\n",
            "Epoch 35/50\n",
            "17000/17000 [==============================] - 1s 37us/sample - loss: 1.9290 - root_mean_squared_error: 1.3889\n",
            "Epoch 36/50\n",
            "17000/17000 [==============================] - 1s 37us/sample - loss: 1.9292 - root_mean_squared_error: 1.3889\n",
            "Epoch 37/50\n",
            "17000/17000 [==============================] - 1s 36us/sample - loss: 1.9261 - root_mean_squared_error: 1.3878\n",
            "Epoch 38/50\n",
            "17000/17000 [==============================] - 1s 37us/sample - loss: 1.9252 - root_mean_squared_error: 1.3875\n",
            "Epoch 39/50\n",
            "17000/17000 [==============================] - 1s 36us/sample - loss: 1.9205 - root_mean_squared_error: 1.3858\n",
            "Epoch 40/50\n",
            "17000/17000 [==============================] - 1s 38us/sample - loss: 1.9206 - root_mean_squared_error: 1.3859\n",
            "Epoch 41/50\n",
            "17000/17000 [==============================] - 1s 39us/sample - loss: 1.9174 - root_mean_squared_error: 1.3847\n",
            "Epoch 42/50\n",
            "17000/17000 [==============================] - 1s 37us/sample - loss: 1.9178 - root_mean_squared_error: 1.3848\n",
            "Epoch 43/50\n",
            "17000/17000 [==============================] - 1s 36us/sample - loss: 1.9157 - root_mean_squared_error: 1.3841\n",
            "Epoch 44/50\n",
            "17000/17000 [==============================] - 1s 36us/sample - loss: 1.9161 - root_mean_squared_error: 1.3842\n",
            "Epoch 45/50\n",
            "17000/17000 [==============================] - 1s 37us/sample - loss: 1.9134 - root_mean_squared_error: 1.3832\n",
            "Epoch 46/50\n",
            "17000/17000 [==============================] - 1s 41us/sample - loss: 1.9122 - root_mean_squared_error: 1.3828\n",
            "Epoch 47/50\n",
            "17000/17000 [==============================] - 1s 36us/sample - loss: 1.9102 - root_mean_squared_error: 1.3821\n",
            "Epoch 48/50\n",
            "17000/17000 [==============================] - 1s 36us/sample - loss: 1.9119 - root_mean_squared_error: 1.3827\n",
            "Epoch 49/50\n",
            "17000/17000 [==============================] - 1s 36us/sample - loss: 1.9102 - root_mean_squared_error: 1.3821\n",
            "Epoch 50/50\n",
            "17000/17000 [==============================] - 1s 37us/sample - loss: 1.9096 - root_mean_squared_error: 1.3819\n"
          ],
          "name": "stdout"
        },
        {
          "output_type": "display_data",
          "data": {
            "image/png": "[encoded data removed]",
            "text/plain": [
              "<Figure size 432x288 with 1 Axes>"
            ]
          },
          "metadata": {
            "tags": []
          }
        },
        {
          "output_type": "display_data",
          "data": {
            "image/png": "[encoded data removed]",
            "text/plain": [
              "<Figure size 432x288 with 1 Axes>"
            ]
          },
          "metadata": {
            "tags": []
          }
        }
      ]
    },
    {
      "cell_type": "code",
      "metadata": {
        "id": "9ztEUqDCoUHh",
        "colab_type": "code",
        "colab": {
          "base_uri": "https://localhost:8080/",
          "height": 1000
        },
        "outputId": "81fc7472-0e65-4e2f-d650-38ebdb256950"
      },
      "source": [
        "# Testing Corelation between Population and total rooms .\n",
        "\n",
        "# Selecting label and feature\n",
        "my_feature = \"population\"\n",
        "my_label=\"total_bedrooms\" \n",
        "\n",
        "# Assign values to these three hyperparameters.\n",
        "learning_rate = 0.0001\n",
        "epochs = 50\n",
        "batch_size =  30\n",
        "\n",
        "# Don't change anything below this line.\n",
        "my_model = build_model(learning_rate)\n",
        "weight, bias, epochs, rmse = train_model(my_model, training_df,\n",
        "                                         my_feature, my_label,\n",
        "                                         epochs, batch_size)\n",
        "\n",
        "plot_the_model(weight, bias, my_feature, my_label,5000)\n",
        "plot_the_loss_curve(epochs, rmse)"
      ],
      "execution_count": 18,
      "outputs": [
        {
          "output_type": "stream",
          "text": [
            "Train on 17000 samples\n",
            "Epoch 1/50\n",
            "17000/17000 [==============================] - 1s 49us/sample - loss: 967434.1402 - root_mean_squared_error: 983.5823\n",
            "Epoch 2/50\n",
            "17000/17000 [==============================] - 1s 40us/sample - loss: 809517.4606 - root_mean_squared_error: 899.7317\n",
            "Epoch 3/50\n",
            "17000/17000 [==============================] - 1s 38us/sample - loss: 663288.9691 - root_mean_squared_error: 814.4256\n",
            "Epoch 4/50\n",
            "17000/17000 [==============================] - 1s 40us/sample - loss: 531799.3675 - root_mean_squared_error: 729.2458\n",
            "Epoch 5/50\n",
            "17000/17000 [==============================] - 1s 36us/sample - loss: 418076.3704 - root_mean_squared_error: 646.5882\n",
            "Epoch 6/50\n",
            "17000/17000 [==============================] - 1s 36us/sample - loss: 319176.5203 - root_mean_squared_error: 564.9570\n",
            "Epoch 7/50\n",
            "17000/17000 [==============================] - 1s 37us/sample - loss: 233272.9874 - root_mean_squared_error: 482.9835\n",
            "Epoch 8/50\n",
            "17000/17000 [==============================] - 1s 39us/sample - loss: 163690.0530 - root_mean_squared_error: 404.5864\n",
            "Epoch 9/50\n",
            "17000/17000 [==============================] - 1s 38us/sample - loss: 110018.6112 - root_mean_squared_error: 331.6905\n",
            "Epoch 10/50\n",
            "17000/17000 [==============================] - 1s 37us/sample - loss: 73149.4719 - root_mean_squared_error: 270.4615\n",
            "Epoch 11/50\n",
            "17000/17000 [==============================] - 1s 37us/sample - loss: 51669.5850 - root_mean_squared_error: 227.3094\n",
            "Epoch 12/50\n",
            "17000/17000 [==============================] - 1s 37us/sample - loss: 43589.4577 - root_mean_squared_error: 208.7809\n",
            "Epoch 13/50\n",
            "17000/17000 [==============================] - 1s 37us/sample - loss: 42133.6866 - root_mean_squared_error: 205.2649\n",
            "Epoch 14/50\n",
            "17000/17000 [==============================] - 1s 37us/sample - loss: 42064.6518 - root_mean_squared_error: 205.0967\n",
            "Epoch 15/50\n",
            "17000/17000 [==============================] - 1s 35us/sample - loss: 42145.2397 - root_mean_squared_error: 205.2931\n",
            "Epoch 16/50\n",
            "17000/17000 [==============================] - 1s 37us/sample - loss: 42119.9838 - root_mean_squared_error: 205.2315\n",
            "Epoch 17/50\n",
            "17000/17000 [==============================] - 1s 36us/sample - loss: 42204.7845 - root_mean_squared_error: 205.4380\n",
            "Epoch 18/50\n",
            "17000/17000 [==============================] - 1s 37us/sample - loss: 42265.5282 - root_mean_squared_error: 205.5858\n",
            "Epoch 19/50\n",
            "17000/17000 [==============================] - 1s 41us/sample - loss: 42136.1281 - root_mean_squared_error: 205.2708\n",
            "Epoch 20/50\n",
            "17000/17000 [==============================] - 1s 42us/sample - loss: 42188.0630 - root_mean_squared_error: 205.3974\n",
            "Epoch 21/50\n",
            "17000/17000 [==============================] - 1s 40us/sample - loss: 42192.2266 - root_mean_squared_error: 205.4075\n",
            "Epoch 22/50\n",
            "17000/17000 [==============================] - 1s 37us/sample - loss: 42187.3950 - root_mean_squared_error: 205.3957\n",
            "Epoch 23/50\n",
            "17000/17000 [==============================] - 1s 37us/sample - loss: 42189.4124 - root_mean_squared_error: 205.4006\n",
            "Epoch 24/50\n",
            "17000/17000 [==============================] - 1s 36us/sample - loss: 42129.7174 - root_mean_squared_error: 205.2552\n",
            "Epoch 25/50\n",
            "17000/17000 [==============================] - 1s 37us/sample - loss: 42153.3394 - root_mean_squared_error: 205.3127\n",
            "Epoch 26/50\n",
            "17000/17000 [==============================] - 1s 37us/sample - loss: 42075.4578 - root_mean_squared_error: 205.1230\n",
            "Epoch 27/50\n",
            "17000/17000 [==============================] - 1s 37us/sample - loss: 42165.3610 - root_mean_squared_error: 205.3421\n",
            "Epoch 28/50\n",
            "17000/17000 [==============================] - 1s 37us/sample - loss: 42193.2078 - root_mean_squared_error: 205.4098\n",
            "Epoch 29/50\n",
            "17000/17000 [==============================] - 1s 41us/sample - loss: 42115.4380 - root_mean_squared_error: 205.2205\n",
            "Epoch 30/50\n",
            "17000/17000 [==============================] - 1s 37us/sample - loss: 42168.3350 - root_mean_squared_error: 205.3493\n",
            "Epoch 31/50\n",
            "17000/17000 [==============================] - 1s 36us/sample - loss: 42199.3884 - root_mean_squared_error: 205.4249\n",
            "Epoch 32/50\n",
            "17000/17000 [==============================] - 1s 37us/sample - loss: 42206.3985 - root_mean_squared_error: 205.4419\n",
            "Epoch 33/50\n",
            "17000/17000 [==============================] - 1s 39us/sample - loss: 42104.2181 - root_mean_squared_error: 205.1932\n",
            "Epoch 34/50\n",
            "17000/17000 [==============================] - 1s 37us/sample - loss: 42133.7294 - root_mean_squared_error: 205.2650\n",
            "Epoch 35/50\n",
            "17000/17000 [==============================] - 1s 41us/sample - loss: 42117.7534 - root_mean_squared_error: 205.2261\n",
            "Epoch 36/50\n",
            "17000/17000 [==============================] - 1s 36us/sample - loss: 42121.5344 - root_mean_squared_error: 205.2354\n",
            "Epoch 37/50\n",
            "17000/17000 [==============================] - 1s 36us/sample - loss: 42093.9468 - root_mean_squared_error: 205.1681\n",
            "Epoch 38/50\n",
            "17000/17000 [==============================] - 1s 41us/sample - loss: 42113.2611 - root_mean_squared_error: 205.2151\n",
            "Epoch 39/50\n",
            "17000/17000 [==============================] - 1s 40us/sample - loss: 42097.2559 - root_mean_squared_error: 205.1762\n",
            "Epoch 40/50\n",
            "17000/17000 [==============================] - 1s 39us/sample - loss: 42131.0855 - root_mean_squared_error: 205.2586\n",
            "Epoch 41/50\n",
            "17000/17000 [==============================] - 1s 36us/sample - loss: 42117.4654 - root_mean_squared_error: 205.2254\n",
            "Epoch 42/50\n",
            "17000/17000 [==============================] - 1s 37us/sample - loss: 42144.8426 - root_mean_squared_error: 205.2921\n",
            "Epoch 43/50\n",
            "17000/17000 [==============================] - 1s 39us/sample - loss: 42123.3282 - root_mean_squared_error: 205.2397\n",
            "Epoch 44/50\n",
            "17000/17000 [==============================] - 1s 37us/sample - loss: 42104.6735 - root_mean_squared_error: 205.1942\n",
            "Epoch 45/50\n",
            "17000/17000 [==============================] - 1s 41us/sample - loss: 42086.1794 - root_mean_squared_error: 205.1491\n",
            "Epoch 46/50\n",
            "17000/17000 [==============================] - 1s 42us/sample - loss: 42123.4732 - root_mean_squared_error: 205.2400\n",
            "Epoch 47/50\n",
            "17000/17000 [==============================] - 1s 39us/sample - loss: 42154.6284 - root_mean_squared_error: 205.3159\n",
            "Epoch 48/50\n",
            "17000/17000 [==============================] - 1s 39us/sample - loss: 42165.3780 - root_mean_squared_error: 205.3421\n",
            "Epoch 49/50\n",
            "17000/17000 [==============================] - 1s 41us/sample - loss: 42148.1447 - root_mean_squared_error: 205.3002\n",
            "Epoch 50/50\n",
            "17000/17000 [==============================] - 1s 43us/sample - loss: 42111.3310 - root_mean_squared_error: 205.2104\n"
          ],
          "name": "stdout"
        },
        {
          "output_type": "display_data",
          "data": {
            "image/png": "[encoded data removed]",
            "text/plain": [
              "<Figure size 432x288 with 1 Axes>"
            ]
          },
          "metadata": {
            "tags": []
          }
        },
        {
          "output_type": "display_data",
          "data": {
            "image/png": "[encoded data removed]",
            "text/plain": [
              "<Figure size 432x288 with 1 Axes>"
            ]
          },
          "metadata": {
            "tags": []
          }
        }
      ]
    },
    {
      "cell_type": "code",
      "metadata": {
        "id": "X3vpg-hWqjDD",
        "colab_type": "code",
        "colab": {
          "base_uri": "https://localhost:8080/",
          "height": 1000
        },
        "outputId": "bc1e33b9-d5a0-4eca-a019-7a8ff144d001"
      },
      "source": [
        "# Testing Corelation between households and total_rooms.\n",
        "\n",
        "# Selecting label and feature\n",
        "my_feature = \"households\"\n",
        "my_label=\"total_rooms\" \n",
        "\n",
        "# Assign values to these three hyperparameters.\n",
        "learning_rate = 0.01\n",
        "epochs = 50\n",
        "batch_size =  30\n",
        "\n",
        "# Don't change anything below this line.\n",
        "my_model = build_model(learning_rate)\n",
        "weight, bias, epochs, rmse = train_model(my_model, training_df,\n",
        "                                         my_feature, my_label,\n",
        "                                         epochs, batch_size)\n",
        "\n",
        "plot_the_model(weight, bias, my_feature, my_label,2000)\n",
        "plot_the_loss_curve(epochs, rmse)"
      ],
      "execution_count": 23,
      "outputs": [
        {
          "output_type": "stream",
          "text": [
            "Train on 17000 samples\n",
            "Epoch 1/50\n",
            "17000/17000 [==============================] - 1s 50us/sample - loss: 1980144.1304 - root_mean_squared_error: 1407.1761\n",
            "Epoch 2/50\n",
            "17000/17000 [==============================] - 1s 36us/sample - loss: 738594.5829 - root_mean_squared_error: 859.4155\n",
            "Epoch 3/50\n",
            "17000/17000 [==============================] - 1s 37us/sample - loss: 740479.5146 - root_mean_squared_error: 860.5110\n",
            "Epoch 4/50\n",
            "17000/17000 [==============================] - 1s 36us/sample - loss: 738791.4233 - root_mean_squared_error: 859.5297\n",
            "Epoch 5/50\n",
            "17000/17000 [==============================] - 1s 36us/sample - loss: 740878.9440 - root_mean_squared_error: 860.7435\n",
            "Epoch 6/50\n",
            "17000/17000 [==============================] - 1s 40us/sample - loss: 740053.8806 - root_mean_squared_error: 860.2640\n",
            "Epoch 7/50\n",
            "17000/17000 [==============================] - 1s 37us/sample - loss: 739919.6824 - root_mean_squared_error: 860.1860\n",
            "Epoch 8/50\n",
            "17000/17000 [==============================] - 1s 39us/sample - loss: 739766.1699 - root_mean_squared_error: 860.0965\n",
            "Epoch 9/50\n",
            "17000/17000 [==============================] - 1s 41us/sample - loss: 740145.6668 - root_mean_squared_error: 860.3171\n",
            "Epoch 10/50\n",
            "17000/17000 [==============================] - 1s 37us/sample - loss: 739978.8289 - root_mean_squared_error: 860.2203\n",
            "Epoch 11/50\n",
            "17000/17000 [==============================] - 1s 35us/sample - loss: 740335.1773 - root_mean_squared_error: 860.4274\n",
            "Epoch 12/50\n",
            "17000/17000 [==============================] - 1s 37us/sample - loss: 739763.5711 - root_mean_squared_error: 860.0953\n",
            "Epoch 13/50\n",
            "17000/17000 [==============================] - 1s 37us/sample - loss: 740390.8702 - root_mean_squared_error: 860.4596\n",
            "Epoch 14/50\n",
            "17000/17000 [==============================] - 1s 37us/sample - loss: 739488.8665 - root_mean_squared_error: 859.9353\n",
            "Epoch 15/50\n",
            "17000/17000 [==============================] - 1s 37us/sample - loss: 739863.3584 - root_mean_squared_error: 860.1532\n",
            "Epoch 16/50\n",
            "17000/17000 [==============================] - 1s 38us/sample - loss: 739257.7399 - root_mean_squared_error: 859.8008\n",
            "Epoch 17/50\n",
            "17000/17000 [==============================] - 1s 36us/sample - loss: 740086.7234 - root_mean_squared_error: 860.2830\n",
            "Epoch 18/50\n",
            "17000/17000 [==============================] - 1s 36us/sample - loss: 739862.8008 - root_mean_squared_error: 860.1528\n",
            "Epoch 19/50\n",
            "17000/17000 [==============================] - 1s 36us/sample - loss: 739677.4803 - root_mean_squared_error: 860.0453\n",
            "Epoch 20/50\n",
            "17000/17000 [==============================] - 1s 41us/sample - loss: 740336.6738 - root_mean_squared_error: 860.4282\n",
            "Epoch 21/50\n",
            "17000/17000 [==============================] - 1s 37us/sample - loss: 739519.3441 - root_mean_squared_error: 859.9534\n",
            "Epoch 22/50\n",
            "17000/17000 [==============================] - 1s 40us/sample - loss: 739899.9177 - root_mean_squared_error: 860.1742\n",
            "Epoch 23/50\n",
            "17000/17000 [==============================] - 1s 36us/sample - loss: 740053.1462 - root_mean_squared_error: 860.2633\n",
            "Epoch 24/50\n",
            "17000/17000 [==============================] - 1s 39us/sample - loss: 740225.0466 - root_mean_squared_error: 860.3632\n",
            "Epoch 25/50\n",
            "17000/17000 [==============================] - 1s 40us/sample - loss: 739919.7276 - root_mean_squared_error: 860.1856\n",
            "Epoch 26/50\n",
            "17000/17000 [==============================] - 1s 36us/sample - loss: 740742.8856 - root_mean_squared_error: 860.6644\n",
            "Epoch 27/50\n",
            "17000/17000 [==============================] - 1s 37us/sample - loss: 740277.5449 - root_mean_squared_error: 860.3938\n",
            "Epoch 28/50\n",
            "17000/17000 [==============================] - 1s 36us/sample - loss: 740544.3849 - root_mean_squared_error: 860.5490\n",
            "Epoch 29/50\n",
            "17000/17000 [==============================] - 1s 45us/sample - loss: 739141.6979 - root_mean_squared_error: 859.7336\n",
            "Epoch 30/50\n",
            "17000/17000 [==============================] - 1s 46us/sample - loss: 739368.2364 - root_mean_squared_error: 859.8654\n",
            "Epoch 31/50\n",
            "17000/17000 [==============================] - 1s 41us/sample - loss: 739695.9821 - root_mean_squared_error: 860.0557\n",
            "Epoch 32/50\n",
            "17000/17000 [==============================] - 1s 38us/sample - loss: 739686.7100 - root_mean_squared_error: 860.0506\n",
            "Epoch 33/50\n",
            "17000/17000 [==============================] - 1s 39us/sample - loss: 739968.5462 - root_mean_squared_error: 860.2140\n",
            "Epoch 34/50\n",
            "17000/17000 [==============================] - 1s 38us/sample - loss: 740088.9755 - root_mean_squared_error: 860.2845\n",
            "Epoch 35/50\n",
            "17000/17000 [==============================] - 1s 40us/sample - loss: 740046.2714 - root_mean_squared_error: 860.2593\n",
            "Epoch 36/50\n",
            "17000/17000 [==============================] - 1s 35us/sample - loss: 740707.1060 - root_mean_squared_error: 860.6433\n",
            "Epoch 37/50\n",
            "17000/17000 [==============================] - 1s 37us/sample - loss: 739812.1678 - root_mean_squared_error: 860.1232\n",
            "Epoch 38/50\n",
            "17000/17000 [==============================] - 1s 36us/sample - loss: 739935.9321 - root_mean_squared_error: 860.1953\n",
            "Epoch 39/50\n",
            "17000/17000 [==============================] - 1s 38us/sample - loss: 738196.1851 - root_mean_squared_error: 859.1838\n",
            "Epoch 40/50\n",
            "17000/17000 [==============================] - 1s 40us/sample - loss: 739044.0077 - root_mean_squared_error: 859.6766\n",
            "Epoch 41/50\n",
            "17000/17000 [==============================] - 1s 36us/sample - loss: 738354.4039 - root_mean_squared_error: 859.2757\n",
            "Epoch 42/50\n",
            "17000/17000 [==============================] - 1s 38us/sample - loss: 739314.4794 - root_mean_squared_error: 859.8342\n",
            "Epoch 43/50\n",
            "17000/17000 [==============================] - 1s 37us/sample - loss: 739574.9774 - root_mean_squared_error: 859.9856\n",
            "Epoch 44/50\n",
            "17000/17000 [==============================] - 1s 35us/sample - loss: 741012.4870 - root_mean_squared_error: 860.8207\n",
            "Epoch 45/50\n",
            "17000/17000 [==============================] - 1s 37us/sample - loss: 739912.0805 - root_mean_squared_error: 860.1812\n",
            "Epoch 46/50\n",
            "17000/17000 [==============================] - 1s 39us/sample - loss: 739296.9979 - root_mean_squared_error: 859.8236\n",
            "Epoch 47/50\n",
            "17000/17000 [==============================] - 1s 37us/sample - loss: 739287.8385 - root_mean_squared_error: 859.8187\n",
            "Epoch 48/50\n",
            "17000/17000 [==============================] - 1s 37us/sample - loss: 740220.9037 - root_mean_squared_error: 860.3607\n",
            "Epoch 49/50\n",
            "17000/17000 [==============================] - 1s 37us/sample - loss: 740303.9917 - root_mean_squared_error: 860.4092\n",
            "Epoch 50/50\n",
            "17000/17000 [==============================] - 1s 37us/sample - loss: 739690.8478 - root_mean_squared_error: 860.0527\n"
          ],
          "name": "stdout"
        },
        {
          "output_type": "display_data",
          "data": {
            "image/png": "[encoded data removed]",
            "text/plain": [
              "<Figure size 432x288 with 1 Axes>"
            ]
          },
          "metadata": {
            "tags": []
          }
        },
        {
          "output_type": "display_data",
          "data": {
            "image/png": "[encoded data removed]",
            "text/plain": [
              "<Figure size 432x288 with 1 Axes>"
            ]
          },
          "metadata": {
            "tags": []
          }
        }
      ]
    },
    {
      "cell_type": "markdown",
      "metadata": {
        "id": "omQRVydbsJsQ",
        "colab_type": "text"
      },
      "source": [
        "Conclution:\n",
        "1. Corelation Between Median_house_value and median_income is true.\n",
        "\n",
        "2. Corelation between Population and total rooms is true\n",
        "\n",
        "3. Corelation between households and total_rooms is true"
      ]
    }
  ]
}